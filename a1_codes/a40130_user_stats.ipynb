{
 "cells": [
  {
   "cell_type": "code",
   "execution_count": 1,
   "id": "6e5078a5-4ea7-4813-8a37-1e411a258d75",
   "metadata": {
    "tags": []
   },
   "outputs": [],
   "source": [
    "import numpy as np\n",
    "import pandas as pd\n",
    "import matplotlib.pyplot as plt"
   ]
  },
  {
   "cell_type": "code",
   "execution_count": 2,
   "id": "8fff2afc-5d5f-4191-a61a-87fe3f40de57",
   "metadata": {
    "tags": []
   },
   "outputs": [],
   "source": [
    "df = pd.read_parquet(\"gs://leo_tapas/a40130_user_stats/part-00000-96b96ffd-e429-47dc-b43a-023684b8867c-c000.snappy.parquet\")"
   ]
  },
  {
   "cell_type": "code",
   "execution_count": 5,
   "id": "d6a389d7-5e5a-41ea-b03a-6648cac9824d",
   "metadata": {
    "tags": []
   },
   "outputs": [
    {
     "data": {
      "text/plain": [
       "(187829,)"
      ]
     },
     "execution_count": 5,
     "metadata": {},
     "output_type": "execute_result"
    }
   ],
   "source": [
    "np.unique(df.user_id).shape"
   ]
  },
  {
   "cell_type": "code",
   "execution_count": 6,
   "id": "e024bb4c-be1d-43b7-a262-3e801dcef796",
   "metadata": {
    "tags": []
   },
   "outputs": [
    {
     "data": {
      "text/html": [
       "<div>\n",
       "<style scoped>\n",
       "    .dataframe tbody tr th:only-of-type {\n",
       "        vertical-align: middle;\n",
       "    }\n",
       "\n",
       "    .dataframe tbody tr th {\n",
       "        vertical-align: top;\n",
       "    }\n",
       "\n",
       "    .dataframe thead th {\n",
       "        text-align: right;\n",
       "    }\n",
       "</style>\n",
       "<table border=\"1\" class=\"dataframe\">\n",
       "  <thead>\n",
       "    <tr style=\"text-align: right;\">\n",
       "      <th></th>\n",
       "      <th>user_id</th>\n",
       "      <th>create_month</th>\n",
       "      <th>event_sum</th>\n",
       "      <th>event_count</th>\n",
       "      <th>sum_total_ink</th>\n",
       "      <th>sum_real_ink</th>\n",
       "      <th>sum_event_ink</th>\n",
       "      <th>count_ticket</th>\n",
       "      <th>count_series_id</th>\n",
       "    </tr>\n",
       "  </thead>\n",
       "  <tbody>\n",
       "    <tr>\n",
       "      <th>0</th>\n",
       "      <td>10919</td>\n",
       "      <td>202305</td>\n",
       "      <td>300</td>\n",
       "      <td>1</td>\n",
       "      <td>27630.0</td>\n",
       "      <td>26730.0</td>\n",
       "      <td>900.0</td>\n",
       "      <td>91.0</td>\n",
       "      <td>11.0</td>\n",
       "    </tr>\n",
       "    <tr>\n",
       "      <th>1</th>\n",
       "      <td>28290</td>\n",
       "      <td>202305</td>\n",
       "      <td>300</td>\n",
       "      <td>1</td>\n",
       "      <td>0.0</td>\n",
       "      <td>0.0</td>\n",
       "      <td>0.0</td>\n",
       "      <td>2.0</td>\n",
       "      <td>1.0</td>\n",
       "    </tr>\n",
       "    <tr>\n",
       "      <th>2</th>\n",
       "      <td>29246</td>\n",
       "      <td>202305</td>\n",
       "      <td>300</td>\n",
       "      <td>1</td>\n",
       "      <td>25890.0</td>\n",
       "      <td>0.0</td>\n",
       "      <td>25890.0</td>\n",
       "      <td>280.0</td>\n",
       "      <td>115.0</td>\n",
       "    </tr>\n",
       "    <tr>\n",
       "      <th>3</th>\n",
       "      <td>43848</td>\n",
       "      <td>202305</td>\n",
       "      <td>300</td>\n",
       "      <td>1</td>\n",
       "      <td>107112.0</td>\n",
       "      <td>103762.0</td>\n",
       "      <td>3350.0</td>\n",
       "      <td>387.0</td>\n",
       "      <td>43.0</td>\n",
       "    </tr>\n",
       "    <tr>\n",
       "      <th>4</th>\n",
       "      <td>46713</td>\n",
       "      <td>202305</td>\n",
       "      <td>300</td>\n",
       "      <td>1</td>\n",
       "      <td>101805.0</td>\n",
       "      <td>83270.0</td>\n",
       "      <td>18535.0</td>\n",
       "      <td>341.0</td>\n",
       "      <td>24.0</td>\n",
       "    </tr>\n",
       "    <tr>\n",
       "      <th>...</th>\n",
       "      <td>...</td>\n",
       "      <td>...</td>\n",
       "      <td>...</td>\n",
       "      <td>...</td>\n",
       "      <td>...</td>\n",
       "      <td>...</td>\n",
       "      <td>...</td>\n",
       "      <td>...</td>\n",
       "      <td>...</td>\n",
       "    </tr>\n",
       "    <tr>\n",
       "      <th>617225</th>\n",
       "      <td>15356333</td>\n",
       "      <td>202401</td>\n",
       "      <td>300</td>\n",
       "      <td>1</td>\n",
       "      <td>810.0</td>\n",
       "      <td>0.0</td>\n",
       "      <td>810.0</td>\n",
       "      <td>2.0</td>\n",
       "      <td>1.0</td>\n",
       "    </tr>\n",
       "    <tr>\n",
       "      <th>617226</th>\n",
       "      <td>15356584</td>\n",
       "      <td>202401</td>\n",
       "      <td>1500</td>\n",
       "      <td>2</td>\n",
       "      <td>9000.0</td>\n",
       "      <td>4915.0</td>\n",
       "      <td>4085.0</td>\n",
       "      <td>23.0</td>\n",
       "      <td>1.0</td>\n",
       "    </tr>\n",
       "    <tr>\n",
       "      <th>617227</th>\n",
       "      <td>15356971</td>\n",
       "      <td>202401</td>\n",
       "      <td>1500</td>\n",
       "      <td>2</td>\n",
       "      <td>7650.0</td>\n",
       "      <td>4850.0</td>\n",
       "      <td>2800.0</td>\n",
       "      <td>5.0</td>\n",
       "      <td>1.0</td>\n",
       "    </tr>\n",
       "    <tr>\n",
       "      <th>617228</th>\n",
       "      <td>15357128</td>\n",
       "      <td>202401</td>\n",
       "      <td>500</td>\n",
       "      <td>1</td>\n",
       "      <td>810.0</td>\n",
       "      <td>0.0</td>\n",
       "      <td>810.0</td>\n",
       "      <td>3.0</td>\n",
       "      <td>1.0</td>\n",
       "    </tr>\n",
       "    <tr>\n",
       "      <th>617229</th>\n",
       "      <td>15357424</td>\n",
       "      <td>202401</td>\n",
       "      <td>300</td>\n",
       "      <td>1</td>\n",
       "      <td>8730.0</td>\n",
       "      <td>5780.0</td>\n",
       "      <td>2950.0</td>\n",
       "      <td>15.0</td>\n",
       "      <td>6.0</td>\n",
       "    </tr>\n",
       "  </tbody>\n",
       "</table>\n",
       "<p>617230 rows × 9 columns</p>\n",
       "</div>"
      ],
      "text/plain": [
       "         user_id create_month  event_sum  event_count  sum_total_ink  \\\n",
       "0          10919       202305        300            1        27630.0   \n",
       "1          28290       202305        300            1            0.0   \n",
       "2          29246       202305        300            1        25890.0   \n",
       "3          43848       202305        300            1       107112.0   \n",
       "4          46713       202305        300            1       101805.0   \n",
       "...          ...          ...        ...          ...            ...   \n",
       "617225  15356333       202401        300            1          810.0   \n",
       "617226  15356584       202401       1500            2         9000.0   \n",
       "617227  15356971       202401       1500            2         7650.0   \n",
       "617228  15357128       202401        500            1          810.0   \n",
       "617229  15357424       202401        300            1         8730.0   \n",
       "\n",
       "        sum_real_ink  sum_event_ink  count_ticket  count_series_id  \n",
       "0            26730.0          900.0          91.0             11.0  \n",
       "1                0.0            0.0           2.0              1.0  \n",
       "2                0.0        25890.0         280.0            115.0  \n",
       "3           103762.0         3350.0         387.0             43.0  \n",
       "4            83270.0        18535.0         341.0             24.0  \n",
       "...              ...            ...           ...              ...  \n",
       "617225           0.0          810.0           2.0              1.0  \n",
       "617226        4915.0         4085.0          23.0              1.0  \n",
       "617227        4850.0         2800.0           5.0              1.0  \n",
       "617228           0.0          810.0           3.0              1.0  \n",
       "617229        5780.0         2950.0          15.0              6.0  \n",
       "\n",
       "[617230 rows x 9 columns]"
      ]
     },
     "execution_count": 6,
     "metadata": {},
     "output_type": "execute_result"
    }
   ],
   "source": [
    "df"
   ]
  },
  {
   "cell_type": "code",
   "execution_count": 14,
   "id": "9ff923a6-1b83-4aa9-bdeb-012e8a7ddf70",
   "metadata": {
    "tags": []
   },
   "outputs": [],
   "source": [
    "totaldf = df.groupby(\"user_id\")[['event_sum', 'event_count', 'sum_total_ink', 'sum_real_ink', 'sum_event_ink', 'count_ticket']].sum()"
   ]
  },
  {
   "cell_type": "code",
   "execution_count": 15,
   "id": "30f0bbc1-0d25-4aaa-a7b9-5597b0f1efea",
   "metadata": {
    "tags": []
   },
   "outputs": [
    {
     "data": {
      "text/html": [
       "<div>\n",
       "<style scoped>\n",
       "    .dataframe tbody tr th:only-of-type {\n",
       "        vertical-align: middle;\n",
       "    }\n",
       "\n",
       "    .dataframe tbody tr th {\n",
       "        vertical-align: top;\n",
       "    }\n",
       "\n",
       "    .dataframe thead th {\n",
       "        text-align: right;\n",
       "    }\n",
       "</style>\n",
       "<table border=\"1\" class=\"dataframe\">\n",
       "  <thead>\n",
       "    <tr style=\"text-align: right;\">\n",
       "      <th></th>\n",
       "      <th>event_sum</th>\n",
       "      <th>event_count</th>\n",
       "      <th>sum_total_ink</th>\n",
       "      <th>sum_real_ink</th>\n",
       "      <th>sum_event_ink</th>\n",
       "      <th>count_ticket</th>\n",
       "    </tr>\n",
       "    <tr>\n",
       "      <th>user_id</th>\n",
       "      <th></th>\n",
       "      <th></th>\n",
       "      <th></th>\n",
       "      <th></th>\n",
       "      <th></th>\n",
       "      <th></th>\n",
       "    </tr>\n",
       "  </thead>\n",
       "  <tbody>\n",
       "    <tr>\n",
       "      <th>1497</th>\n",
       "      <td>1800</td>\n",
       "      <td>3</td>\n",
       "      <td>94707.0</td>\n",
       "      <td>0.0</td>\n",
       "      <td>94707.0</td>\n",
       "      <td>20.0</td>\n",
       "    </tr>\n",
       "    <tr>\n",
       "      <th>1526</th>\n",
       "      <td>2600</td>\n",
       "      <td>5</td>\n",
       "      <td>95520.0</td>\n",
       "      <td>91520.0</td>\n",
       "      <td>4000.0</td>\n",
       "      <td>312.0</td>\n",
       "    </tr>\n",
       "    <tr>\n",
       "      <th>1572</th>\n",
       "      <td>6800</td>\n",
       "      <td>10</td>\n",
       "      <td>291159.0</td>\n",
       "      <td>278659.0</td>\n",
       "      <td>12500.0</td>\n",
       "      <td>196.0</td>\n",
       "    </tr>\n",
       "    <tr>\n",
       "      <th>1765</th>\n",
       "      <td>300</td>\n",
       "      <td>1</td>\n",
       "      <td>6900.0</td>\n",
       "      <td>5470.0</td>\n",
       "      <td>1430.0</td>\n",
       "      <td>101.0</td>\n",
       "    </tr>\n",
       "    <tr>\n",
       "      <th>2587</th>\n",
       "      <td>2500</td>\n",
       "      <td>4</td>\n",
       "      <td>14238.0</td>\n",
       "      <td>10832.0</td>\n",
       "      <td>3406.0</td>\n",
       "      <td>180.0</td>\n",
       "    </tr>\n",
       "    <tr>\n",
       "      <th>...</th>\n",
       "      <td>...</td>\n",
       "      <td>...</td>\n",
       "      <td>...</td>\n",
       "      <td>...</td>\n",
       "      <td>...</td>\n",
       "      <td>...</td>\n",
       "    </tr>\n",
       "    <tr>\n",
       "      <th>15357080</th>\n",
       "      <td>300</td>\n",
       "      <td>1</td>\n",
       "      <td>810.0</td>\n",
       "      <td>0.0</td>\n",
       "      <td>810.0</td>\n",
       "      <td>4.0</td>\n",
       "    </tr>\n",
       "    <tr>\n",
       "      <th>15357128</th>\n",
       "      <td>500</td>\n",
       "      <td>1</td>\n",
       "      <td>810.0</td>\n",
       "      <td>0.0</td>\n",
       "      <td>810.0</td>\n",
       "      <td>3.0</td>\n",
       "    </tr>\n",
       "    <tr>\n",
       "      <th>15357424</th>\n",
       "      <td>300</td>\n",
       "      <td>1</td>\n",
       "      <td>8730.0</td>\n",
       "      <td>5780.0</td>\n",
       "      <td>2950.0</td>\n",
       "      <td>15.0</td>\n",
       "    </tr>\n",
       "    <tr>\n",
       "      <th>15357589</th>\n",
       "      <td>500</td>\n",
       "      <td>1</td>\n",
       "      <td>855.0</td>\n",
       "      <td>0.0</td>\n",
       "      <td>855.0</td>\n",
       "      <td>3.0</td>\n",
       "    </tr>\n",
       "    <tr>\n",
       "      <th>15357663</th>\n",
       "      <td>300</td>\n",
       "      <td>1</td>\n",
       "      <td>2115.0</td>\n",
       "      <td>0.0</td>\n",
       "      <td>2115.0</td>\n",
       "      <td>5.0</td>\n",
       "    </tr>\n",
       "  </tbody>\n",
       "</table>\n",
       "<p>187829 rows × 6 columns</p>\n",
       "</div>"
      ],
      "text/plain": [
       "          event_sum  event_count  sum_total_ink  sum_real_ink  sum_event_ink  \\\n",
       "user_id                                                                        \n",
       "1497           1800            3        94707.0           0.0        94707.0   \n",
       "1526           2600            5        95520.0       91520.0         4000.0   \n",
       "1572           6800           10       291159.0      278659.0        12500.0   \n",
       "1765            300            1         6900.0        5470.0         1430.0   \n",
       "2587           2500            4        14238.0       10832.0         3406.0   \n",
       "...             ...          ...            ...           ...            ...   \n",
       "15357080        300            1          810.0           0.0          810.0   \n",
       "15357128        500            1          810.0           0.0          810.0   \n",
       "15357424        300            1         8730.0        5780.0         2950.0   \n",
       "15357589        500            1          855.0           0.0          855.0   \n",
       "15357663        300            1         2115.0           0.0         2115.0   \n",
       "\n",
       "          count_ticket  \n",
       "user_id                 \n",
       "1497              20.0  \n",
       "1526             312.0  \n",
       "1572             196.0  \n",
       "1765             101.0  \n",
       "2587             180.0  \n",
       "...                ...  \n",
       "15357080           4.0  \n",
       "15357128           3.0  \n",
       "15357424          15.0  \n",
       "15357589           3.0  \n",
       "15357663           5.0  \n",
       "\n",
       "[187829 rows x 6 columns]"
      ]
     },
     "execution_count": 15,
     "metadata": {},
     "output_type": "execute_result"
    }
   ],
   "source": [
    "totaldf"
   ]
  },
  {
   "cell_type": "markdown",
   "id": "a16cfe55-f0de-4ed4-85d5-80ffd110b933",
   "metadata": {},
   "source": [
    "1. Scatter Plot\n",
    "2. QQ Plot\n",
    "3. Histogram\n",
    "4. Clustering"
   ]
  },
  {
   "cell_type": "markdown",
   "id": "a82fa6af-b9fa-437c-9874-b81a92bc6270",
   "metadata": {},
   "source": [
    "## Histograms"
   ]
  },
  {
   "cell_type": "code",
   "execution_count": 18,
   "id": "0f04e41c-b08f-4aa0-a02e-5ed0d869bd9d",
   "metadata": {
    "tags": []
   },
   "outputs": [
    {
     "data": {
      "image/png": "[encoded data removed]",
      "text/plain": [
       "<Figure size 640x480 with 1 Axes>"
      ]
     },
     "metadata": {},
     "output_type": "display_data"
    }
   ],
   "source": [
    "plt.hist(totaldf['event_sum'], bins=100)\n",
    "plt.show()"
   ]
  },
  {
   "cell_type": "code",
   "execution_count": 19,
   "id": "62ba261b-ccb0-44ee-8d41-7328768e37df",
   "metadata": {
    "tags": []
   },
   "outputs": [
    {
     "data": {
      "image/png": "[encoded data removed]",
      "text/plain": [
       "<Figure size 640x480 with 1 Axes>"
      ]
     },
     "metadata": {},
     "output_type": "display_data"
    }
   ],
   "source": [
    "plt.hist(totaldf['event_count'], bins=100)\n",
    "plt.show()"
   ]
  },
  {
   "cell_type": "code",
   "execution_count": 20,
   "id": "a8add2b3-6437-4ff0-b72e-ce48a551ec2d",
   "metadata": {
    "tags": []
   },
   "outputs": [
    {
     "data": {
      "image/png": "[encoded data removed]",
      "text/plain": [
       "<Figure size 640x480 with 1 Axes>"
      ]
     },
     "metadata": {},
     "output_type": "display_data"
    }
   ],
   "source": [
    "plt.hist(totaldf['count_ticket'], bins=100)\n",
    "plt.show()"
   ]
  },
  {
   "cell_type": "code",
   "execution_count": 32,
   "id": "3ed6aa53-ea8e-41c5-aff5-395ffaa34e0e",
   "metadata": {
    "tags": []
   },
   "outputs": [
    {
     "data": {
      "image/png": "[encoded data removed]",
      "text/plain": [
       "<Figure size 640x480 with 1 Axes>"
      ]
     },
     "metadata": {},
     "output_type": "display_data"
    }
   ],
   "source": [
    "v = totaldf['sum_event_ink']/totaldf['sum_total_ink']\n",
    "v = v[v<=1]\n",
    "plt.hist(v, bins=100)\n",
    "plt.title(\"Event Ink / Total Ink\")\n",
    "plt.show()\n"
   ]
  },
  {
   "cell_type": "code",
   "execution_count": 37,
   "id": "15656d4e-ee88-4ff3-ac64-7a08acbd3208",
   "metadata": {
    "tags": []
   },
   "outputs": [
    {
     "data": {
      "image/png": "[encoded data removed]",
      "text/plain": [
       "<Figure size 640x480 with 1 Axes>"
      ]
     },
     "metadata": {},
     "output_type": "display_data"
    }
   ],
   "source": [
    "v = np.array(totaldf['event_sum']/totaldf['sum_event_ink'])\n",
    "v = v[v<=1]\n",
    "plt.hist(v, bins=100)\n",
    "plt.title(\"New Release Event Ink / Sum Event Ink\")\n",
    "plt.show()"
   ]
  },
  {
   "cell_type": "code",
   "execution_count": 44,
   "id": "cddad070-3422-40b4-a381-0beef4e4ed29",
   "metadata": {
    "tags": []
   },
   "outputs": [
    {
     "data": {
      "text/plain": [
       "<matplotlib.collections.PathCollection at 0x7f43ab79f340>"
      ]
     },
     "execution_count": 44,
     "metadata": {},
     "output_type": "execute_result"
    },
    {
     "data": {
      "image/png": "[encoded data removed]",
      "text/plain": [
       "<Figure size 640x480 with 1 Axes>"
      ]
     },
     "metadata": {},
     "output_type": "display_data"
    }
   ],
   "source": [
    "v = np.sort(v)\n",
    "plt.scatter(np.argsort(v)/len(v),v)"
   ]
  },
  {
   "cell_type": "code",
   "execution_count": 46,
   "id": "f72478a5-7e6c-43a5-97a6-425c7927b242",
   "metadata": {
    "tags": []
   },
   "outputs": [
    {
     "data": {
      "text/plain": [
       "0.3614329601092223"
      ]
     },
     "execution_count": 46,
     "metadata": {},
     "output_type": "execute_result"
    }
   ],
   "source": [
    "# 신작 이벤트 잉크의 이벤트 잉크 비중\n",
    "totaldf['event_sum'].sum()/totaldf['sum_event_ink'].sum()"
   ]
  },
  {
   "cell_type": "code",
   "execution_count": 48,
   "id": "d287d280-971e-4469-abe8-d6788e5cf7c7",
   "metadata": {
    "tags": []
   },
   "outputs": [
    {
     "data": {
      "text/plain": [
       "273727.08"
      ]
     },
     "execution_count": 48,
     "metadata": {},
     "output_type": "execute_result"
    }
   ],
   "source": [
    "# 만원단위로\n",
    "totaldf['event_sum'].sum()*1.2/10000\n",
    "# 27억"
   ]
  },
  {
   "cell_type": "code",
   "execution_count": 50,
   "id": "4d50d74d-1ebd-4e0c-b398-bb6396026833",
   "metadata": {
    "tags": []
   },
   "outputs": [
    {
     "data": {
      "text/plain": [
       "757338.45612"
      ]
     },
     "execution_count": 50,
     "metadata": {},
     "output_type": "execute_result"
    }
   ],
   "source": [
    "totaldf['sum_event_ink'].sum()*1.2/10000\n",
    "# 75억"
   ]
  },
  {
   "cell_type": "code",
   "execution_count": 52,
   "id": "0bd5ef84-0766-4c94-a738-4e3e59e742ec",
   "metadata": {
    "tags": []
   },
   "outputs": [
    {
     "data": {
      "text/plain": [
       "3020947.52868"
      ]
     },
     "execution_count": 52,
     "metadata": {},
     "output_type": "execute_result"
    }
   ],
   "source": [
    "totaldf['sum_total_ink'].sum()*1.2/10000\n",
    "# 302억"
   ]
  },
  {
   "cell_type": "code",
   "execution_count": 55,
   "id": "e5003e8a-0af7-454f-b9ac-f580bd98e027",
   "metadata": {
    "tags": []
   },
   "outputs": [],
   "source": [
    "timedf = df.groupby(\"create_month\")[[\"event_sum\", \"event_count\", \"sum_total_ink\", \"sum_real_ink\", \"sum_event_ink\"]].sum()"
   ]
  },
  {
   "cell_type": "code",
   "execution_count": 56,
   "id": "1282728b-310b-42b4-8745-325c54ccd221",
   "metadata": {
    "tags": []
   },
   "outputs": [
    {
     "data": {
      "text/html": [
       "<div>\n",
       "<style scoped>\n",
       "    .dataframe tbody tr th:only-of-type {\n",
       "        vertical-align: middle;\n",
       "    }\n",
       "\n",
       "    .dataframe tbody tr th {\n",
       "        vertical-align: top;\n",
       "    }\n",
       "\n",
       "    .dataframe thead th {\n",
       "        text-align: right;\n",
       "    }\n",
       "</style>\n",
       "<table border=\"1\" class=\"dataframe\">\n",
       "  <thead>\n",
       "    <tr style=\"text-align: right;\">\n",
       "      <th></th>\n",
       "      <th>event_sum</th>\n",
       "      <th>event_count</th>\n",
       "      <th>sum_total_ink</th>\n",
       "      <th>sum_real_ink</th>\n",
       "      <th>sum_event_ink</th>\n",
       "    </tr>\n",
       "    <tr>\n",
       "      <th>create_month</th>\n",
       "      <th></th>\n",
       "      <th></th>\n",
       "      <th></th>\n",
       "      <th></th>\n",
       "      <th></th>\n",
       "    </tr>\n",
       "  </thead>\n",
       "  <tbody>\n",
       "    <tr>\n",
       "      <th>202305</th>\n",
       "      <td>1113000</td>\n",
       "      <td>3710</td>\n",
       "      <td>9.086535e+07</td>\n",
       "      <td>4.119956e+07</td>\n",
       "      <td>49665787.0</td>\n",
       "    </tr>\n",
       "    <tr>\n",
       "      <th>202306</th>\n",
       "      <td>323228300</td>\n",
       "      <td>647723</td>\n",
       "      <td>3.183205e+09</td>\n",
       "      <td>2.279804e+09</td>\n",
       "      <td>903400762.0</td>\n",
       "    </tr>\n",
       "    <tr>\n",
       "      <th>202307</th>\n",
       "      <td>305402600</td>\n",
       "      <td>627554</td>\n",
       "      <td>3.454741e+09</td>\n",
       "      <td>2.583944e+09</td>\n",
       "      <td>870796680.0</td>\n",
       "    </tr>\n",
       "    <tr>\n",
       "      <th>202308</th>\n",
       "      <td>260008500</td>\n",
       "      <td>590555</td>\n",
       "      <td>3.185054e+09</td>\n",
       "      <td>2.368919e+09</td>\n",
       "      <td>816135013.0</td>\n",
       "    </tr>\n",
       "    <tr>\n",
       "      <th>202309</th>\n",
       "      <td>317037200</td>\n",
       "      <td>601609</td>\n",
       "      <td>2.903971e+09</td>\n",
       "      <td>2.098112e+09</td>\n",
       "      <td>805858716.0</td>\n",
       "    </tr>\n",
       "    <tr>\n",
       "      <th>202310</th>\n",
       "      <td>275199600</td>\n",
       "      <td>628202</td>\n",
       "      <td>2.856492e+09</td>\n",
       "      <td>2.111181e+09</td>\n",
       "      <td>745311612.0</td>\n",
       "    </tr>\n",
       "    <tr>\n",
       "      <th>202311</th>\n",
       "      <td>254755000</td>\n",
       "      <td>558375</td>\n",
       "      <td>3.051313e+09</td>\n",
       "      <td>2.347477e+09</td>\n",
       "      <td>703836193.0</td>\n",
       "    </tr>\n",
       "    <tr>\n",
       "      <th>202312</th>\n",
       "      <td>301034400</td>\n",
       "      <td>595035</td>\n",
       "      <td>3.510155e+09</td>\n",
       "      <td>2.713846e+09</td>\n",
       "      <td>796309374.0</td>\n",
       "    </tr>\n",
       "    <tr>\n",
       "      <th>202401</th>\n",
       "      <td>243280400</td>\n",
       "      <td>521655</td>\n",
       "      <td>2.938766e+09</td>\n",
       "      <td>2.318927e+09</td>\n",
       "      <td>619839664.0</td>\n",
       "    </tr>\n",
       "  </tbody>\n",
       "</table>\n",
       "</div>"
      ],
      "text/plain": [
       "              event_sum  event_count  sum_total_ink  sum_real_ink  \\\n",
       "create_month                                                        \n",
       "202305          1113000         3710   9.086535e+07  4.119956e+07   \n",
       "202306        323228300       647723   3.183205e+09  2.279804e+09   \n",
       "202307        305402600       627554   3.454741e+09  2.583944e+09   \n",
       "202308        260008500       590555   3.185054e+09  2.368919e+09   \n",
       "202309        317037200       601609   2.903971e+09  2.098112e+09   \n",
       "202310        275199600       628202   2.856492e+09  2.111181e+09   \n",
       "202311        254755000       558375   3.051313e+09  2.347477e+09   \n",
       "202312        301034400       595035   3.510155e+09  2.713846e+09   \n",
       "202401        243280400       521655   2.938766e+09  2.318927e+09   \n",
       "\n",
       "              sum_event_ink  \n",
       "create_month                 \n",
       "202305           49665787.0  \n",
       "202306          903400762.0  \n",
       "202307          870796680.0  \n",
       "202308          816135013.0  \n",
       "202309          805858716.0  \n",
       "202310          745311612.0  \n",
       "202311          703836193.0  \n",
       "202312          796309374.0  \n",
       "202401          619839664.0  "
      ]
     },
     "execution_count": 56,
     "metadata": {},
     "output_type": "execute_result"
    }
   ],
   "source": [
    "timedf"
   ]
  },
  {
   "cell_type": "code",
   "execution_count": 61,
   "id": "2dc625af-7765-4366-9424-909167e1592f",
   "metadata": {
    "tags": []
   },
   "outputs": [
    {
     "data": {
      "image/png": "[encoded data removed]",
      "text/plain": [
       "<Figure size 640x480 with 1 Axes>"
      ]
     },
     "metadata": {},
     "output_type": "display_data"
    }
   ],
   "source": [
    "plt.bar(timedf.index, timedf.event_sum)\n",
    "plt.title(\"New Release Event Ink Sum\")\n",
    "plt.show()"
   ]
  },
  {
   "cell_type": "code",
   "execution_count": 62,
   "id": "efca30cb-714e-4a15-8718-ad4f1a81cca2",
   "metadata": {
    "tags": []
   },
   "outputs": [
    {
     "data": {
      "image/png": "[encoded data removed]",
      "text/plain": [
       "<Figure size 640x480 with 1 Axes>"
      ]
     },
     "metadata": {},
     "output_type": "display_data"
    }
   ],
   "source": [
    "plt.bar(timedf.index, timedf.sum_event_ink)\n",
    "plt.title(\"Event Ink Sum\")\n",
    "plt.show()"
   ]
  },
  {
   "cell_type": "code",
   "execution_count": 63,
   "id": "98c6d17d-c977-493a-9e32-480bce9351a5",
   "metadata": {
    "tags": []
   },
   "outputs": [
    {
     "data": {
      "image/png": "[encoded data removed]",
      "text/plain": [
       "<Figure size 640x480 with 1 Axes>"
      ]
     },
     "metadata": {},
     "output_type": "display_data"
    }
   ],
   "source": [
    "plt.bar(timedf.index, timedf.sum_total_ink)\n",
    "plt.title(\"Total Ink Sum\")\n",
    "plt.show()"
   ]
  },
  {
   "cell_type": "code",
   "execution_count": 64,
   "id": "354e0a32-20f6-4352-a840-f13affd00b0b",
   "metadata": {
    "tags": []
   },
   "outputs": [
    {
     "data": {
      "image/png": "[encoded data removed]",
      "text/plain": [
       "<Figure size 640x480 with 1 Axes>"
      ]
     },
     "metadata": {},
     "output_type": "display_data"
    }
   ],
   "source": [
    "v = timedf.event_sum/timedf.sum_event_ink\n",
    "v = v[v<=1]\n",
    "plt.bar(timedf.index, v)\n",
    "plt.title(\"New Release Ink Ratio\")\n",
    "plt.show()"
   ]
  },
  {
   "cell_type": "code",
   "execution_count": 65,
   "id": "22ad89fd-7f6e-46b7-9108-761bc516919c",
   "metadata": {
    "tags": []
   },
   "outputs": [],
   "source": [
    "seriesdf = pd.read_parquet(\"gs://leo_tapas/series_details_20231218/raw/part-00000-d54af644-897c-43e8-94b8-8bf3a250693d-c000.snappy.parquet\")"
   ]
  },
  {
   "cell_type": "code",
   "execution_count": 67,
   "id": "2ec73940-89cb-4708-bba9-b59dac2afb46",
   "metadata": {
    "tags": []
   },
   "outputs": [],
   "source": [
    "sdf = seriesdf.dropna()"
   ]
  },
  {
   "cell_type": "code",
   "execution_count": 68,
   "id": "cf678d44-8a10-4885-955c-f05bd0baa86d",
   "metadata": {
    "tags": []
   },
   "outputs": [
    {
     "data": {
      "text/html": [
       "<div>\n",
       "<style scoped>\n",
       "    .dataframe tbody tr th:only-of-type {\n",
       "        vertical-align: middle;\n",
       "    }\n",
       "\n",
       "    .dataframe tbody tr th {\n",
       "        vertical-align: top;\n",
       "    }\n",
       "\n",
       "    .dataframe thead th {\n",
       "        text-align: right;\n",
       "    }\n",
       "</style>\n",
       "<table border=\"1\" class=\"dataframe\">\n",
       "  <thead>\n",
       "    <tr style=\"text-align: right;\">\n",
       "      <th></th>\n",
       "      <th>series_id</th>\n",
       "      <th>series_title</th>\n",
       "      <th>earliest_dt</th>\n",
       "      <th>latest_dt</th>\n",
       "      <th>earliest_dt_formatted</th>\n",
       "      <th>latest_dt_formatted</th>\n",
       "      <th>amonth_later_dt</th>\n",
       "      <th>main_genre</th>\n",
       "      <th>meta_tag</th>\n",
       "    </tr>\n",
       "  </thead>\n",
       "  <tbody>\n",
       "    <tr>\n",
       "      <th>1</th>\n",
       "      <td>133308.0</td>\n",
       "      <td>Summoner</td>\n",
       "      <td>20231006</td>\n",
       "      <td>20231008</td>\n",
       "      <td>2023-10-06</td>\n",
       "      <td>2023-10-08</td>\n",
       "      <td>2023-11-07</td>\n",
       "      <td>30.0</td>\n",
       "      <td>Fantasy,Action,Drama,Comedy,High Fantasy,Adven...</td>\n",
       "    </tr>\n",
       "    <tr>\n",
       "      <th>2</th>\n",
       "      <td>145100.0</td>\n",
       "      <td>DemON</td>\n",
       "      <td>20230921</td>\n",
       "      <td>20231120</td>\n",
       "      <td>2023-09-21</td>\n",
       "      <td>2023-11-20</td>\n",
       "      <td>2023-12-20</td>\n",
       "      <td>22.0</td>\n",
       "      <td></td>\n",
       "    </tr>\n",
       "    <tr>\n",
       "      <th>3</th>\n",
       "      <td>186414.0</td>\n",
       "      <td>Villains Are Destined to Die</td>\n",
       "      <td>20230905</td>\n",
       "      <td>20230908</td>\n",
       "      <td>2023-09-05</td>\n",
       "      <td>2023-09-08</td>\n",
       "      <td>2023-10-08</td>\n",
       "      <td>29.0</td>\n",
       "      <td>Romance,Fantasy,Romance Fantasy,Ladies With Sw...</td>\n",
       "    </tr>\n",
       "    <tr>\n",
       "      <th>4</th>\n",
       "      <td>191178.0</td>\n",
       "      <td>The Monstrous Duke's Adopted Daughter</td>\n",
       "      <td>20231205</td>\n",
       "      <td>20231207</td>\n",
       "      <td>2023-12-05</td>\n",
       "      <td>2023-12-07</td>\n",
       "      <td>2024-01-06</td>\n",
       "      <td>29.0</td>\n",
       "      <td>Fantasy,Romance,Romance Fantasy,Family,Meek bu...</td>\n",
       "    </tr>\n",
       "    <tr>\n",
       "      <th>5</th>\n",
       "      <td>193584.0</td>\n",
       "      <td>Descent of the Demon Master</td>\n",
       "      <td>20231130</td>\n",
       "      <td>20231201</td>\n",
       "      <td>2023-11-30</td>\n",
       "      <td>2023-12-01</td>\n",
       "      <td>2023-12-31</td>\n",
       "      <td>30.0</td>\n",
       "      <td>Action,Fantasy,Action Fantasy,Contemporary Fan...</td>\n",
       "    </tr>\n",
       "    <tr>\n",
       "      <th>...</th>\n",
       "      <td>...</td>\n",
       "      <td>...</td>\n",
       "      <td>...</td>\n",
       "      <td>...</td>\n",
       "      <td>...</td>\n",
       "      <td>...</td>\n",
       "      <td>...</td>\n",
       "      <td>...</td>\n",
       "      <td>...</td>\n",
       "    </tr>\n",
       "    <tr>\n",
       "      <th>348</th>\n",
       "      <td>271934.0</td>\n",
       "      <td>The Savior's 30-Day Unstoppable Streak</td>\n",
       "      <td>20231216</td>\n",
       "      <td>20231218</td>\n",
       "      <td>2023-12-16</td>\n",
       "      <td>2023-12-18</td>\n",
       "      <td>2024-01-17</td>\n",
       "      <td>30.0</td>\n",
       "      <td></td>\n",
       "    </tr>\n",
       "    <tr>\n",
       "      <th>349</th>\n",
       "      <td>271943.0</td>\n",
       "      <td>The Vampire's Consort</td>\n",
       "      <td>20231204</td>\n",
       "      <td>20231207</td>\n",
       "      <td>2023-12-04</td>\n",
       "      <td>2023-12-07</td>\n",
       "      <td>2024-01-06</td>\n",
       "      <td>31.0</td>\n",
       "      <td></td>\n",
       "    </tr>\n",
       "    <tr>\n",
       "      <th>350</th>\n",
       "      <td>271950.0</td>\n",
       "      <td>Why Are You Sorry, Darling?</td>\n",
       "      <td>20231214</td>\n",
       "      <td>20231216</td>\n",
       "      <td>2023-12-14</td>\n",
       "      <td>2023-12-16</td>\n",
       "      <td>2024-01-15</td>\n",
       "      <td>31.0</td>\n",
       "      <td></td>\n",
       "    </tr>\n",
       "    <tr>\n",
       "      <th>351</th>\n",
       "      <td>272022.0</td>\n",
       "      <td>The Reincarnated Assassin is a Swordmaster</td>\n",
       "      <td>20231213</td>\n",
       "      <td>20231216</td>\n",
       "      <td>2023-12-13</td>\n",
       "      <td>2023-12-16</td>\n",
       "      <td>2024-01-15</td>\n",
       "      <td>33.0</td>\n",
       "      <td></td>\n",
       "    </tr>\n",
       "    <tr>\n",
       "      <th>352</th>\n",
       "      <td>272719.0</td>\n",
       "      <td>The Monstrous Duke's Adopted Daughter</td>\n",
       "      <td>20231205</td>\n",
       "      <td>20231207</td>\n",
       "      <td>2023-12-05</td>\n",
       "      <td>2023-12-07</td>\n",
       "      <td>2024-01-06</td>\n",
       "      <td>31.0</td>\n",
       "      <td></td>\n",
       "    </tr>\n",
       "  </tbody>\n",
       "</table>\n",
       "<p>350 rows × 9 columns</p>\n",
       "</div>"
      ],
      "text/plain": [
       "     series_id                                series_title earliest_dt  \\\n",
       "1     133308.0                                    Summoner    20231006   \n",
       "2     145100.0                                       DemON    20230921   \n",
       "3     186414.0                Villains Are Destined to Die    20230905   \n",
       "4     191178.0       The Monstrous Duke's Adopted Daughter    20231205   \n",
       "5     193584.0                 Descent of the Demon Master    20231130   \n",
       "..         ...                                         ...         ...   \n",
       "348   271934.0      The Savior's 30-Day Unstoppable Streak    20231216   \n",
       "349   271943.0                       The Vampire's Consort    20231204   \n",
       "350   271950.0                 Why Are You Sorry, Darling?    20231214   \n",
       "351   272022.0  The Reincarnated Assassin is a Swordmaster    20231213   \n",
       "352   272719.0       The Monstrous Duke's Adopted Daughter    20231205   \n",
       "\n",
       "    latest_dt earliest_dt_formatted latest_dt_formatted amonth_later_dt  \\\n",
       "1    20231008            2023-10-06          2023-10-08      2023-11-07   \n",
       "2    20231120            2023-09-21          2023-11-20      2023-12-20   \n",
       "3    20230908            2023-09-05          2023-09-08      2023-10-08   \n",
       "4    20231207            2023-12-05          2023-12-07      2024-01-06   \n",
       "5    20231201            2023-11-30          2023-12-01      2023-12-31   \n",
       "..        ...                   ...                 ...             ...   \n",
       "348  20231218            2023-12-16          2023-12-18      2024-01-17   \n",
       "349  20231207            2023-12-04          2023-12-07      2024-01-06   \n",
       "350  20231216            2023-12-14          2023-12-16      2024-01-15   \n",
       "351  20231216            2023-12-13          2023-12-16      2024-01-15   \n",
       "352  20231207            2023-12-05          2023-12-07      2024-01-06   \n",
       "\n",
       "     main_genre                                           meta_tag  \n",
       "1          30.0  Fantasy,Action,Drama,Comedy,High Fantasy,Adven...  \n",
       "2          22.0                                                     \n",
       "3          29.0  Romance,Fantasy,Romance Fantasy,Ladies With Sw...  \n",
       "4          29.0  Fantasy,Romance,Romance Fantasy,Family,Meek bu...  \n",
       "5          30.0  Action,Fantasy,Action Fantasy,Contemporary Fan...  \n",
       "..          ...                                                ...  \n",
       "348        30.0                                                     \n",
       "349        31.0                                                     \n",
       "350        31.0                                                     \n",
       "351        33.0                                                     \n",
       "352        31.0                                                     \n",
       "\n",
       "[350 rows x 9 columns]"
      ]
     },
     "execution_count": 68,
     "metadata": {},
     "output_type": "execute_result"
    }
   ],
   "source": [
    "sdf.earliest_dt_formatted"
   ]
  },
  {
   "cell_type": "code",
   "execution_count": 73,
   "id": "4469c55c-7f73-4571-b3c7-8a881f0a6cee",
   "metadata": {
    "tags": []
   },
   "outputs": [
    {
     "data": {
      "text/plain": [
       "array([Period('2023-09', 'M'), Period('2023-10', 'M')], dtype=object)"
      ]
     },
     "execution_count": 73,
     "metadata": {},
     "output_type": "execute_result"
    }
   ],
   "source": [
    "pd.period_range(start=\"2023-09-30\",end=\"2023-10-05\",freq=\"M\").values"
   ]
  },
  {
   "cell_type": "code",
   "execution_count": 74,
   "id": "694bff37-4e32-42f6-acee-5687d453701c",
   "metadata": {
    "tags": []
   },
   "outputs": [
    {
     "ename": "AttributeError",
     "evalue": "'Series' object has no attribute 'earliest_dt_formatted'",
     "output_type": "error",
     "traceback": [
      "\u001b[0;31m---------------------------------------------------------------------------\u001b[0m",
      "\u001b[0;31mAttributeError\u001b[0m                            Traceback (most recent call last)",
      "\u001b[0;32m/var/tmp/ipykernel_3923/2232044670.py\u001b[0m in \u001b[0;36m?\u001b[0;34m()\u001b[0m\n\u001b[0;32m----> 1\u001b[0;31m \u001b[0msdf\u001b[0m\u001b[0;34m.\u001b[0m\u001b[0mapply\u001b[0m\u001b[0;34m(\u001b[0m\u001b[0;32mlambda\u001b[0m \u001b[0mx\u001b[0m\u001b[0;34m:\u001b[0m \u001b[0mpd\u001b[0m\u001b[0;34m.\u001b[0m\u001b[0mperiod_range\u001b[0m\u001b[0;34m(\u001b[0m\u001b[0mstart\u001b[0m\u001b[0;34m=\u001b[0m\u001b[0mx\u001b[0m\u001b[0;34m.\u001b[0m\u001b[0mearliest_dt_formatted\u001b[0m\u001b[0;34m,\u001b[0m \u001b[0mend\u001b[0m\u001b[0;34m=\u001b[0m\u001b[0mx\u001b[0m\u001b[0;34m.\u001b[0m\u001b[0mlatest_dt_formatted\u001b[0m\u001b[0;34m,\u001b[0m \u001b[0mfreq\u001b[0m\u001b[0;34m=\u001b[0m\u001b[0;34m\"M\"\u001b[0m\u001b[0;34m)\u001b[0m\u001b[0;34m)\u001b[0m\u001b[0;34m\u001b[0m\u001b[0;34m\u001b[0m\u001b[0m\n\u001b[0m",
      "\u001b[0;32m/opt/conda/lib/python3.10/site-packages/pandas/core/frame.py\u001b[0m in \u001b[0;36m?\u001b[0;34m(self, func, axis, raw, result_type, args, **kwargs)\u001b[0m\n\u001b[1;32m   9419\u001b[0m             \u001b[0mresult_type\u001b[0m\u001b[0;34m=\u001b[0m\u001b[0mresult_type\u001b[0m\u001b[0;34m,\u001b[0m\u001b[0;34m\u001b[0m\u001b[0;34m\u001b[0m\u001b[0m\n\u001b[1;32m   9420\u001b[0m             \u001b[0margs\u001b[0m\u001b[0;34m=\u001b[0m\u001b[0margs\u001b[0m\u001b[0;34m,\u001b[0m\u001b[0;34m\u001b[0m\u001b[0;34m\u001b[0m\u001b[0m\n\u001b[1;32m   9421\u001b[0m             \u001b[0mkwargs\u001b[0m\u001b[0;34m=\u001b[0m\u001b[0mkwargs\u001b[0m\u001b[0;34m,\u001b[0m\u001b[0;34m\u001b[0m\u001b[0;34m\u001b[0m\u001b[0m\n\u001b[1;32m   9422\u001b[0m         )\n\u001b[0;32m-> 9423\u001b[0;31m         \u001b[0;32mreturn\u001b[0m \u001b[0mop\u001b[0m\u001b[0;34m.\u001b[0m\u001b[0mapply\u001b[0m\u001b[0;34m(\u001b[0m\u001b[0;34m)\u001b[0m\u001b[0;34m.\u001b[0m\u001b[0m__finalize__\u001b[0m\u001b[0;34m(\u001b[0m\u001b[0mself\u001b[0m\u001b[0;34m,\u001b[0m \u001b[0mmethod\u001b[0m\u001b[0;34m=\u001b[0m\u001b[0;34m\"apply\"\u001b[0m\u001b[0;34m)\u001b[0m\u001b[0;34m\u001b[0m\u001b[0;34m\u001b[0m\u001b[0m\n\u001b[0m",
      "\u001b[0;32m/opt/conda/lib/python3.10/site-packages/pandas/core/apply.py\u001b[0m in \u001b[0;36m?\u001b[0;34m(self)\u001b[0m\n\u001b[1;32m    674\u001b[0m         \u001b[0;31m# raw\u001b[0m\u001b[0;34m\u001b[0m\u001b[0;34m\u001b[0m\u001b[0m\n\u001b[1;32m    675\u001b[0m         \u001b[0;32melif\u001b[0m \u001b[0mself\u001b[0m\u001b[0;34m.\u001b[0m\u001b[0mraw\u001b[0m\u001b[0;34m:\u001b[0m\u001b[0;34m\u001b[0m\u001b[0;34m\u001b[0m\u001b[0m\n\u001b[1;32m    676\u001b[0m             \u001b[0;32mreturn\u001b[0m \u001b[0mself\u001b[0m\u001b[0;34m.\u001b[0m\u001b[0mapply_raw\u001b[0m\u001b[0;34m(\u001b[0m\u001b[0;34m)\u001b[0m\u001b[0;34m\u001b[0m\u001b[0;34m\u001b[0m\u001b[0m\n\u001b[1;32m    677\u001b[0m \u001b[0;34m\u001b[0m\u001b[0m\n\u001b[0;32m--> 678\u001b[0;31m         \u001b[0;32mreturn\u001b[0m \u001b[0mself\u001b[0m\u001b[0;34m.\u001b[0m\u001b[0mapply_standard\u001b[0m\u001b[0;34m(\u001b[0m\u001b[0;34m)\u001b[0m\u001b[0;34m\u001b[0m\u001b[0;34m\u001b[0m\u001b[0m\n\u001b[0m",
      "\u001b[0;32m/opt/conda/lib/python3.10/site-packages/pandas/core/apply.py\u001b[0m in \u001b[0;36m?\u001b[0;34m(self)\u001b[0m\n\u001b[1;32m    797\u001b[0m     \u001b[0;32mdef\u001b[0m \u001b[0mapply_standard\u001b[0m\u001b[0;34m(\u001b[0m\u001b[0mself\u001b[0m\u001b[0;34m)\u001b[0m\u001b[0;34m:\u001b[0m\u001b[0;34m\u001b[0m\u001b[0;34m\u001b[0m\u001b[0m\n\u001b[0;32m--> 798\u001b[0;31m         \u001b[0mresults\u001b[0m\u001b[0;34m,\u001b[0m \u001b[0mres_index\u001b[0m \u001b[0;34m=\u001b[0m \u001b[0mself\u001b[0m\u001b[0;34m.\u001b[0m\u001b[0mapply_series_generator\u001b[0m\u001b[0;34m(\u001b[0m\u001b[0;34m)\u001b[0m\u001b[0;34m\u001b[0m\u001b[0;34m\u001b[0m\u001b[0m\n\u001b[0m\u001b[1;32m    799\u001b[0m \u001b[0;34m\u001b[0m\u001b[0m\n\u001b[1;32m    800\u001b[0m         \u001b[0;31m# wrap results\u001b[0m\u001b[0;34m\u001b[0m\u001b[0;34m\u001b[0m\u001b[0m\n\u001b[1;32m    801\u001b[0m         \u001b[0;32mreturn\u001b[0m \u001b[0mself\u001b[0m\u001b[0;34m.\u001b[0m\u001b[0mwrap_results\u001b[0m\u001b[0;34m(\u001b[0m\u001b[0mresults\u001b[0m\u001b[0;34m,\u001b[0m \u001b[0mres_index\u001b[0m\u001b[0;34m)\u001b[0m\u001b[0;34m\u001b[0m\u001b[0;34m\u001b[0m\u001b[0m\n",
      "\u001b[0;32m/opt/conda/lib/python3.10/site-packages/pandas/core/apply.py\u001b[0m in \u001b[0;36m?\u001b[0;34m(self)\u001b[0m\n\u001b[1;32m    810\u001b[0m \u001b[0;34m\u001b[0m\u001b[0m\n\u001b[1;32m    811\u001b[0m         \u001b[0;32mwith\u001b[0m \u001b[0moption_context\u001b[0m\u001b[0;34m(\u001b[0m\u001b[0;34m\"mode.chained_assignment\"\u001b[0m\u001b[0;34m,\u001b[0m \u001b[0;32mNone\u001b[0m\u001b[0;34m)\u001b[0m\u001b[0;34m:\u001b[0m\u001b[0;34m\u001b[0m\u001b[0;34m\u001b[0m\u001b[0m\n\u001b[1;32m    812\u001b[0m             \u001b[0;32mfor\u001b[0m \u001b[0mi\u001b[0m\u001b[0;34m,\u001b[0m \u001b[0mv\u001b[0m \u001b[0;32min\u001b[0m \u001b[0menumerate\u001b[0m\u001b[0;34m(\u001b[0m\u001b[0mseries_gen\u001b[0m\u001b[0;34m)\u001b[0m\u001b[0;34m:\u001b[0m\u001b[0;34m\u001b[0m\u001b[0;34m\u001b[0m\u001b[0m\n\u001b[1;32m    813\u001b[0m                 \u001b[0;31m# ignore SettingWithCopy here in case the user mutates\u001b[0m\u001b[0;34m\u001b[0m\u001b[0;34m\u001b[0m\u001b[0m\n\u001b[0;32m--> 814\u001b[0;31m                 \u001b[0mresults\u001b[0m\u001b[0;34m[\u001b[0m\u001b[0mi\u001b[0m\u001b[0;34m]\u001b[0m \u001b[0;34m=\u001b[0m \u001b[0mself\u001b[0m\u001b[0;34m.\u001b[0m\u001b[0mf\u001b[0m\u001b[0;34m(\u001b[0m\u001b[0mv\u001b[0m\u001b[0;34m)\u001b[0m\u001b[0;34m\u001b[0m\u001b[0;34m\u001b[0m\u001b[0m\n\u001b[0m\u001b[1;32m    815\u001b[0m                 \u001b[0;32mif\u001b[0m \u001b[0misinstance\u001b[0m\u001b[0;34m(\u001b[0m\u001b[0mresults\u001b[0m\u001b[0;34m[\u001b[0m\u001b[0mi\u001b[0m\u001b[0;34m]\u001b[0m\u001b[0;34m,\u001b[0m \u001b[0mABCSeries\u001b[0m\u001b[0;34m)\u001b[0m\u001b[0;34m:\u001b[0m\u001b[0;34m\u001b[0m\u001b[0;34m\u001b[0m\u001b[0m\n\u001b[1;32m    816\u001b[0m                     \u001b[0;31m# If we have a view on v, we need to make a copy because\u001b[0m\u001b[0;34m\u001b[0m\u001b[0;34m\u001b[0m\u001b[0m\n\u001b[1;32m    817\u001b[0m                     \u001b[0;31m#  series_generator will swap out the underlying data\u001b[0m\u001b[0;34m\u001b[0m\u001b[0;34m\u001b[0m\u001b[0m\n",
      "\u001b[0;32m/var/tmp/ipykernel_3923/2232044670.py\u001b[0m in \u001b[0;36m?\u001b[0;34m(x)\u001b[0m\n\u001b[0;32m----> 1\u001b[0;31m \u001b[0msdf\u001b[0m\u001b[0;34m.\u001b[0m\u001b[0mapply\u001b[0m\u001b[0;34m(\u001b[0m\u001b[0;32mlambda\u001b[0m \u001b[0mx\u001b[0m\u001b[0;34m:\u001b[0m \u001b[0mpd\u001b[0m\u001b[0;34m.\u001b[0m\u001b[0mperiod_range\u001b[0m\u001b[0;34m(\u001b[0m\u001b[0mstart\u001b[0m\u001b[0;34m=\u001b[0m\u001b[0mx\u001b[0m\u001b[0;34m.\u001b[0m\u001b[0mearliest_dt_formatted\u001b[0m\u001b[0;34m,\u001b[0m \u001b[0mend\u001b[0m\u001b[0;34m=\u001b[0m\u001b[0mx\u001b[0m\u001b[0;34m.\u001b[0m\u001b[0mlatest_dt_formatted\u001b[0m\u001b[0;34m,\u001b[0m \u001b[0mfreq\u001b[0m\u001b[0;34m=\u001b[0m\u001b[0;34m\"M\"\u001b[0m\u001b[0;34m)\u001b[0m\u001b[0;34m)\u001b[0m\u001b[0;34m\u001b[0m\u001b[0;34m\u001b[0m\u001b[0m\n\u001b[0m",
      "\u001b[0;32m/opt/conda/lib/python3.10/site-packages/pandas/core/generic.py\u001b[0m in \u001b[0;36m?\u001b[0;34m(self, name)\u001b[0m\n\u001b[1;32m   5985\u001b[0m             \u001b[0;32mand\u001b[0m \u001b[0mname\u001b[0m \u001b[0;32mnot\u001b[0m \u001b[0;32min\u001b[0m \u001b[0mself\u001b[0m\u001b[0;34m.\u001b[0m\u001b[0m_accessors\u001b[0m\u001b[0;34m\u001b[0m\u001b[0;34m\u001b[0m\u001b[0m\n\u001b[1;32m   5986\u001b[0m             \u001b[0;32mand\u001b[0m \u001b[0mself\u001b[0m\u001b[0;34m.\u001b[0m\u001b[0m_info_axis\u001b[0m\u001b[0;34m.\u001b[0m\u001b[0m_can_hold_identifiers_and_holds_name\u001b[0m\u001b[0;34m(\u001b[0m\u001b[0mname\u001b[0m\u001b[0;34m)\u001b[0m\u001b[0;34m\u001b[0m\u001b[0;34m\u001b[0m\u001b[0m\n\u001b[1;32m   5987\u001b[0m         ):\n\u001b[1;32m   5988\u001b[0m             \u001b[0;32mreturn\u001b[0m \u001b[0mself\u001b[0m\u001b[0;34m[\u001b[0m\u001b[0mname\u001b[0m\u001b[0;34m]\u001b[0m\u001b[0;34m\u001b[0m\u001b[0;34m\u001b[0m\u001b[0m\n\u001b[0;32m-> 5989\u001b[0;31m         \u001b[0;32mreturn\u001b[0m \u001b[0mobject\u001b[0m\u001b[0;34m.\u001b[0m\u001b[0m__getattribute__\u001b[0m\u001b[0;34m(\u001b[0m\u001b[0mself\u001b[0m\u001b[0;34m,\u001b[0m \u001b[0mname\u001b[0m\u001b[0;34m)\u001b[0m\u001b[0;34m\u001b[0m\u001b[0;34m\u001b[0m\u001b[0m\n\u001b[0m",
      "\u001b[0;31mAttributeError\u001b[0m: 'Series' object has no attribute 'earliest_dt_formatted'"
     ]
    }
   ],
   "source": [
    "sdf.apply(lambda x: pd.period_range(start=x.earliest_dt_formatted, end=x.latest_dt_formatted, freq=\"M\"))"
   ]
  },
  {
   "cell_type": "code",
   "execution_count": 90,
   "id": "5a7213b5-cbf3-4d62-afca-246d8096ac59",
   "metadata": {
    "tags": []
   },
   "outputs": [],
   "source": [
    "dates = []\n",
    "for i in range(len(sdf)):\n",
    "    dates.append(pd.date_range(start=sdf.earliest_dt_formatted.iloc[i], end=sdf.latest_dt_formatted.iloc[i]).strftime(\"%Y%m%d\").values)"
   ]
  },
  {
   "cell_type": "code",
   "execution_count": 95,
   "id": "4534f317-cc88-4fbb-929b-ea17b0ab82ed",
   "metadata": {
    "tags": []
   },
   "outputs": [],
   "source": [
    "dsr = pd.Series(np.concatenate(dates)).value_counts().sort_index()"
   ]
  },
  {
   "cell_type": "code",
   "execution_count": 130,
   "id": "58cd9e9a-997d-4fd1-aa22-e193ed85eccb",
   "metadata": {
    "tags": []
   },
   "outputs": [
    {
     "data": {
      "image/png": "[encoded data removed]",
      "text/plain": [
       "<Figure size 640x480 with 1 Axes>"
      ]
     },
     "metadata": {},
     "output_type": "display_data"
    }
   ],
   "source": [
    "months = dsr.index.str[4:6]\n",
    "midx = np.where(months[:-1]!=months[1:])[0]\n",
    "plt.bar(dsr.index, dsr.values)\n",
    "plt.xticks(midx[np.arange(len(midx),step=2)])\n",
    "plt.title(\"Daily New Release Series Count\")\n",
    "plt.show()\n",
    "plt.close()"
   ]
  },
  {
   "cell_type": "code",
   "execution_count": 137,
   "id": "ba38b475-0cfa-4ef2-9565-212ca1b580e9",
   "metadata": {
    "tags": []
   },
   "outputs": [],
   "source": [
    "months = []\n",
    "for i in range(len(sdf)):\n",
    "    months.append(pd.period_range(start=sdf.earliest_dt_formatted.iloc[i], end=sdf.latest_dt_formatted.iloc[i], freq=\"M\").strftime(\"%Y%m\").values)"
   ]
  },
  {
   "cell_type": "code",
   "execution_count": null,
   "id": "c41f90be-67ec-4a38-8b27-78b89306c3ff",
   "metadata": {},
   "outputs": [],
   "source": []
  },
  {
   "cell_type": "code",
   "execution_count": 141,
   "id": "4cc2a399-06e0-4554-8bcb-4ee1baae621b",
   "metadata": {
    "tags": []
   },
   "outputs": [
    {
     "data": {
      "image/png": "[encoded data removed]",
      "text/plain": [
       "<Figure size 640x480 with 1 Axes>"
      ]
     },
     "metadata": {},
     "output_type": "display_data"
    }
   ],
   "source": [
    "msr = pd.Series(np.concatenate(months)).value_counts().sort_index()\n",
    "plt.bar(msr.index, msr.values)\n",
    "# plt.xticks(np.arange(len(msr),step=int(len(msr)/5)))\n",
    "plt.title(\"Monthly New Release Series Count\")\n",
    "plt.show()\n",
    "plt.close()"
   ]
  },
  {
   "cell_type": "code",
   "execution_count": 143,
   "id": "b62e9165-e6c3-45af-8dcc-490e857509cd",
   "metadata": {
    "tags": []
   },
   "outputs": [
    {
     "data": {
      "image/png": "[encoded data removed]",
      "text/plain": [
       "<Figure size 640x480 with 1 Axes>"
      ]
     },
     "metadata": {},
     "output_type": "display_data"
    }
   ],
   "source": [
    "plt.hist(df.event_count, bins=50)\n",
    "plt.title(\"Monthly New Release Earn Count\")\n",
    "plt.show()"
   ]
  },
  {
   "cell_type": "code",
   "execution_count": 144,
   "id": "85f514e4-fc9d-4f15-bb96-83ba044d1547",
   "metadata": {
    "tags": []
   },
   "outputs": [
    {
     "data": {
      "text/plain": [
       "0.13477309916886737"
      ]
     },
     "execution_count": 144,
     "metadata": {},
     "output_type": "execute_result"
    }
   ],
   "source": [
    "len(df.loc[df.event_count>=20])/len(df)\n",
    "# 월 20회 이상 신작이벤트 수령 비율"
   ]
  },
  {
   "cell_type": "code",
   "execution_count": 145,
   "id": "adfff540-6108-488f-a87c-09ea5216df36",
   "metadata": {
    "tags": []
   },
   "outputs": [
    {
     "data": {
      "text/plain": [
       "0.10427569757598668"
      ]
     },
     "execution_count": 145,
     "metadata": {},
     "output_type": "execute_result"
    }
   ],
   "source": [
    "len(np.unique(df.user_id.loc[df.event_count>=20]))/len(np.unique(df.user_id))\n",
    "# 월 20회 이상 (한번이라도) 신작 이벤트를 받아본 유저수의 비율"
   ]
  },
  {
   "cell_type": "code",
   "execution_count": 146,
   "id": "5ce252e5-31f3-4052-92e5-1ad07e54fba2",
   "metadata": {
    "tags": []
   },
   "outputs": [
    {
     "data": {
      "text/plain": [
       "0.5470811311451993"
      ]
     },
     "execution_count": 146,
     "metadata": {},
     "output_type": "execute_result"
    }
   ],
   "source": [
    "df.loc[df.event_count>=20].event_count.sum()/df.event_count.sum()\n",
    "# 20회 이상 받는 사람들이 전체 신작 이벤트 수령 횟수에서의 비율"
   ]
  },
  {
   "cell_type": "code",
   "execution_count": null,
   "id": "a03020ca-df6d-4016-883e-d341452f24b8",
   "metadata": {},
   "outputs": [],
   "source": []
  },
  {
   "cell_type": "code",
   "execution_count": 89,
   "id": "fc9564c2-ba06-4a36-bdc1-90001e892b7f",
   "metadata": {
    "tags": []
   },
   "outputs": [
    {
     "data": {
      "text/plain": [
       "(array([336., 272., 191., 279., 185., 217., 270., 190., 228., 105.]),\n",
       " array([  0. ,  20.1,  40.2,  60.3,  80.4, 100.5, 120.6, 140.7, 160.8,\n",
       "        180.9, 201. ]),\n",
       " <BarContainer object of 10 artists>)"
      ]
     },
     "execution_count": 89,
     "metadata": {},
     "output_type": "execute_result"
    },
    {
     "data": {
      "image/png": "[encoded data removed]",
      "text/plain": [
       "<Figure size 640x480 with 1 Axes>"
      ]
     },
     "metadata": {},
     "output_type": "display_data"
    }
   ],
   "source": [
    "plt.bar(dates)"
   ]
  },
  {
   "cell_type": "code",
   "execution_count": null,
   "id": "6eb7310a-87a6-444f-a8a0-244403c4b4d2",
   "metadata": {},
   "outputs": [],
   "source": []
  }
 ],
 "metadata": {
  "environment": {
   "kernel": "conda-root-py",
   "name": "workbench-notebooks.m113",
   "type": "gcloud",
   "uri": "gcr.io/deeplearning-platform-release/workbench-notebooks:m113"
  },
  "kernelspec": {
   "display_name": "Python 3 (ipykernel) (Local) (Local)",
   "language": "python",
   "name": "conda-root-py"
  },
  "language_info": {
   "codemirror_mode": {
    "name": "ipython",
    "version": 3
   },
   "file_extension": ".py",
   "mimetype": "text/x-python",
   "name": "python",
   "nbconvert_exporter": "python",
   "pygments_lexer": "ipython3",
   "version": "3.10.13"
  }
 },
 "nbformat": 4,
 "nbformat_minor": 5
}
