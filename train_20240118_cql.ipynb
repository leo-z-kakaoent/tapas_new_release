{
 "cells": [
  {
   "cell_type": "code",
   "execution_count": 1,
   "id": "b5cac33e-4ece-475b-8e0a-d067b10ba321",
   "metadata": {
    "tags": []
   },
   "outputs": [],
   "source": [
    "import pickle\n",
    "import d3rlpy\n",
    "import pandas as pd\n",
    "import numpy as np\n",
    "import json"
   ]
  },
  {
   "cell_type": "code",
   "execution_count": 2,
   "id": "ff2ef748-d670-44dd-8c0a-7d8603145879",
   "metadata": {
    "tags": []
   },
   "outputs": [],
   "source": [
    "traindf = pd.read_parquet('gs://leo_tapas/primary/train_20240118.parquet')\n",
    "validdf = pd.read_parquet('gs://leo_tapas/primary/valid_20240118.parquet')\n",
    "testdf = pd.read_parquet('gs://leo_tapas/primary/test_20240118.parquet')"
   ]
  },
  {
   "cell_type": "code",
   "execution_count": 3,
   "id": "25e05a2c-adc5-4183-9d1c-900c47ded64c",
   "metadata": {
    "tags": []
   },
   "outputs": [],
   "source": [
    "class Evaluator(d3rlpy.metrics.EvaluatorProtocol):\n",
    "    def __init__(self, observations, actions, rewards, batch_size=10000):\n",
    "        self.observations = observations\n",
    "        self.actions = actions\n",
    "        self.rewards = rewards\n",
    "        self.batch_size = batch_size\n",
    "    \n",
    "    def _hard_metric(self, qv, r):\n",
    "        return np.sum(r[np.where(qv>0)])\n",
    "\n",
    "    def _naive_metric(self, qv, r):\n",
    "        return np.sum(r[np.where((qv>0)|(r>0))])\n",
    "    \n",
    "    def __call__(self, algo, dataset):\n",
    "        qvlist = []\n",
    "        rlist = []\n",
    "        for i in range(0,len(self.rewards),self.batch_size):\n",
    "            qvlist.append(algo.predict_value(self.observations[i:(i+self.batch_size),:], self.actions[i:(i+self.batch_size)]))\n",
    "            rlist.append(self.rewards[i:(i+self.batch_size)])\n",
    "        h = self._hard_metric(qv=np.concatenate(qvlist), r=np.concatenate(rlist))\n",
    "        n = self._naive_metric(qv=np.concatenate(qvlist), r=np.concatenate(rlist))\n",
    "        return np.mean([h,n])"
   ]
  },
  {
   "cell_type": "code",
   "execution_count": 4,
   "id": "f7cebc3a-c337-418d-9e6a-be01d12347c0",
   "metadata": {
    "tags": []
   },
   "outputs": [
    {
     "name": "stdout",
     "output_type": "stream",
     "text": [
      "\u001b[2m2024-01-18 13:06.08\u001b[0m [\u001b[32m\u001b[1minfo     \u001b[0m] \u001b[1mSignatures have been automatically determined.\u001b[0m \u001b[36maction_signature\u001b[0m=\u001b[35mSignature(dtype=[dtype('int64')], shape=[(1,)])\u001b[0m \u001b[36mobservation_signature\u001b[0m=\u001b[35mSignature(dtype=[dtype('float64')], shape=[(256,)])\u001b[0m \u001b[36mreward_signature\u001b[0m=\u001b[35mSignature(dtype=[dtype('float64')], shape=[(1,)])\u001b[0m\n",
      "\u001b[2m2024-01-18 13:06.08\u001b[0m [\u001b[32m\u001b[1minfo     \u001b[0m] \u001b[1mAction-space has been automatically determined.\u001b[0m \u001b[36maction_space\u001b[0m=\u001b[35m<ActionSpace.DISCRETE: 2>\u001b[0m\n",
      "\u001b[2m2024-01-18 13:06.18\u001b[0m [\u001b[32m\u001b[1minfo     \u001b[0m] \u001b[1mAction size has been automatically determined.\u001b[0m \u001b[36maction_size\u001b[0m=\u001b[35m144881\u001b[0m\n"
     ]
    }
   ],
   "source": [
    "dataset = d3rlpy.dataset.MDPDataset(\n",
    "    observations = np.stack(traindf.pca.values),\n",
    "    actions = traindf.user_id_index.values,\n",
    "    rewards = traindf.profit.values/1000,\n",
    "    terminals = np.ones(len(traindf)))"
   ]
  },
  {
   "cell_type": "code",
   "execution_count": 5,
   "id": "0493d679-54ee-4174-8ee7-365c107e23ba",
   "metadata": {
    "tags": []
   },
   "outputs": [],
   "source": [
    "valid_eval = Evaluator(\n",
    "    observations = np.stack(validdf.pca.values),\n",
    "    actions = validdf.user_id_index.values,\n",
    "    rewards = validdf.profit.values/1000)\n",
    "test_eval = Evaluator(\n",
    "    observations = np.stack(testdf.pca.values),\n",
    "    actions = testdf.user_id_index.values,\n",
    "    rewards = testdf.profit.values/1000)"
   ]
  },
  {
   "cell_type": "code",
   "execution_count": 6,
   "id": "e7f96ac7-92cf-45e4-88d9-252abb08a234",
   "metadata": {
    "tags": []
   },
   "outputs": [],
   "source": [
    "batch_size = 128\n",
    "valid_eval = Evaluator(\n",
    "    observations = np.stack(validdf.pca.values),\n",
    "    actions = validdf.user_id_index.values,\n",
    "    rewards = validdf.profit.values/1000,\n",
    "    batch_size = batch_size)\n",
    "test_eval = Evaluator(\n",
    "    observations = np.stack(testdf.pca.values),\n",
    "    actions = testdf.user_id_index.values,\n",
    "    rewards = testdf.profit.values/1000,\n",
    "    batch_size = batch_size)\n",
    "cql = d3rlpy.algos.DiscreteCQLConfig(batch_size=batch_size).create(device='cuda:0')"
   ]
  },
  {
   "cell_type": "code",
   "execution_count": 7,
   "id": "b722528c-fc79-43f9-96ce-d869d377266e",
   "metadata": {
    "tags": []
   },
   "outputs": [
    {
     "name": "stdout",
     "output_type": "stream",
     "text": [
      "\u001b[2m2024-01-18 13:06.25\u001b[0m [\u001b[32m\u001b[1minfo     \u001b[0m] \u001b[1mdataset info                  \u001b[0m \u001b[36mdataset_info\u001b[0m=\u001b[35mDatasetInfo(observation_signature=Signature(dtype=[dtype('float64')], shape=[(256,)]), action_signature=Signature(dtype=[dtype('int64')], shape=[(1,)]), reward_signature=Signature(dtype=[dtype('float64')], shape=[(1,)]), action_space=<ActionSpace.DISCRETE: 2>, action_size=144881)\u001b[0m\n",
      "\u001b[2m2024-01-18 13:06.25\u001b[0m [\u001b[32m\u001b[1minfo     \u001b[0m] \u001b[1mDirectory is created at d3rlpy_logs/DiscreteCQL_20240118130625\u001b[0m\n",
      "\u001b[2m2024-01-18 13:06.25\u001b[0m [\u001b[32m\u001b[1mdebug    \u001b[0m] \u001b[1mBuilding models...            \u001b[0m\n",
      "\u001b[2m2024-01-18 13:06.27\u001b[0m [\u001b[32m\u001b[1mdebug    \u001b[0m] \u001b[1mModels have been built.       \u001b[0m\n",
      "\u001b[2m2024-01-18 13:06.27\u001b[0m [\u001b[32m\u001b[1minfo     \u001b[0m] \u001b[1mParameters                    \u001b[0m \u001b[36mparams\u001b[0m=\u001b[35m{'observation_shape': [256], 'action_size': 144881, 'config': {'type': 'discrete_cql', 'params': {'batch_size': 128, 'gamma': 0.99, 'observation_scaler': {'type': 'none', 'params': {}}, 'action_scaler': {'type': 'none', 'params': {}}, 'reward_scaler': {'type': 'none', 'params': {}}, 'learning_rate': 6.25e-05, 'optim_factory': {'type': 'adam', 'params': {'betas': [0.9, 0.999], 'eps': 1e-08, 'weight_decay': 0, 'amsgrad': False}}, 'encoder_factory': {'type': 'default', 'params': {'activation': 'relu', 'use_batch_norm': False, 'dropout_rate': None}}, 'q_func_factory': {'type': 'mean', 'params': {'share_encoder': False}}, 'n_critics': 1, 'target_update_interval': 8000, 'alpha': 1.0}}}\u001b[0m\n"
     ]
    },
    {
     "data": {
      "application/vnd.jupyter.widget-view+json": {
       "model_id": "2e1d9b81fe3e4160b3f9b9336b71f104",
       "version_major": 2,
       "version_minor": 0
      },
      "text/plain": [
       "Epoch 1/10:   0%|          | 0/10000 [00:00<?, ?it/s]"
      ]
     },
     "metadata": {},
     "output_type": "display_data"
    },
    {
     "name": "stdout",
     "output_type": "stream",
     "text": [
      "\u001b[2m2024-01-18 13:16.10\u001b[0m [\u001b[32m\u001b[1minfo     \u001b[0m] \u001b[1mDiscreteCQL_20240118130625: epoch=1 step=10000\u001b[0m \u001b[36mepoch\u001b[0m=\u001b[35m1\u001b[0m \u001b[36mmetrics\u001b[0m=\u001b[35m{'time_sample_batch': 0.006409164595603943, 'time_algorithm_update': 0.048495398688316343, 'loss': 13.165841132354736, 'td_loss': 2.00659384329319, 'conservative_loss': 11.159247290420533, 'time_step': 0.055090593957901, 'valid': 161712.08800000002, 'test': 352847.8805}\u001b[0m \u001b[36mstep\u001b[0m=\u001b[35m10000\u001b[0m\n",
      "\u001b[2m2024-01-18 13:16.11\u001b[0m [\u001b[32m\u001b[1minfo     \u001b[0m] \u001b[1mModel parameters are saved to d3rlpy_logs/DiscreteCQL_20240118130625/model_10000.d3\u001b[0m\n"
     ]
    },
    {
     "data": {
      "application/vnd.jupyter.widget-view+json": {
       "model_id": "a913e830e26b417fa4f1008ab215a68a",
       "version_major": 2,
       "version_minor": 0
      },
      "text/plain": [
       "Epoch 2/10:   0%|          | 0/10000 [00:00<?, ?it/s]"
      ]
     },
     "metadata": {},
     "output_type": "display_data"
    },
    {
     "name": "stdout",
     "output_type": "stream",
     "text": [
      "\u001b[2m2024-01-18 13:25.51\u001b[0m [\u001b[32m\u001b[1minfo     \u001b[0m] \u001b[1mDiscreteCQL_20240118130625: epoch=2 step=20000\u001b[0m \u001b[36mepoch\u001b[0m=\u001b[35m2\u001b[0m \u001b[36mmetrics\u001b[0m=\u001b[35m{'time_sample_batch': 0.006378501033782959, 'time_algorithm_update': 0.048288755631446835, 'loss': 12.911194874191285, 'td_loss': 2.032807874971628, 'conservative_loss': 10.878386997699737, 'time_step': 0.05485282573699951, 'valid': 163289.915, 'test': 356791.68399999995}\u001b[0m \u001b[36mstep\u001b[0m=\u001b[35m20000\u001b[0m\n",
      "\u001b[2m2024-01-18 13:25.52\u001b[0m [\u001b[32m\u001b[1minfo     \u001b[0m] \u001b[1mModel parameters are saved to d3rlpy_logs/DiscreteCQL_20240118130625/model_20000.d3\u001b[0m\n"
     ]
    },
    {
     "data": {
      "application/vnd.jupyter.widget-view+json": {
       "model_id": "807483181a1a4750979ecc742c654e20",
       "version_major": 2,
       "version_minor": 0
      },
      "text/plain": [
       "Epoch 3/10:   0%|          | 0/10000 [00:00<?, ?it/s]"
      ]
     },
     "metadata": {},
     "output_type": "display_data"
    },
    {
     "name": "stdout",
     "output_type": "stream",
     "text": [
      "\u001b[2m2024-01-18 13:35.33\u001b[0m [\u001b[32m\u001b[1minfo     \u001b[0m] \u001b[1mDiscreteCQL_20240118130625: epoch=3 step=30000\u001b[0m \u001b[36mepoch\u001b[0m=\u001b[35m3\u001b[0m \u001b[36mmetrics\u001b[0m=\u001b[35m{'time_sample_batch': 0.006408561205863953, 'time_algorithm_update': 0.04831157054901123, 'loss': 12.784132319164277, 'td_loss': 2.035749557322264, 'conservative_loss': 10.748382761192321, 'time_step': 0.05490975980758667, 'valid': 163866.585, 'test': 357164.657}\u001b[0m \u001b[36mstep\u001b[0m=\u001b[35m30000\u001b[0m\n",
      "\u001b[2m2024-01-18 13:35.34\u001b[0m [\u001b[32m\u001b[1minfo     \u001b[0m] \u001b[1mModel parameters are saved to d3rlpy_logs/DiscreteCQL_20240118130625/model_30000.d3\u001b[0m\n"
     ]
    },
    {
     "data": {
      "application/vnd.jupyter.widget-view+json": {
       "model_id": "4a99f55b82694379888e904611df23de",
       "version_major": 2,
       "version_minor": 0
      },
      "text/plain": [
       "Epoch 4/10:   0%|          | 0/10000 [00:00<?, ?it/s]"
      ]
     },
     "metadata": {},
     "output_type": "display_data"
    },
    {
     "name": "stdout",
     "output_type": "stream",
     "text": [
      "\u001b[2m2024-01-18 13:45.13\u001b[0m [\u001b[32m\u001b[1minfo     \u001b[0m] \u001b[1mDiscreteCQL_20240118130625: epoch=4 step=40000\u001b[0m \u001b[36mepoch\u001b[0m=\u001b[35m4\u001b[0m \u001b[36mmetrics\u001b[0m=\u001b[35m{'time_sample_batch': 0.0063162554740905765, 'time_algorithm_update': 0.0482660311460495, 'loss': 12.705895440387726, 'td_loss': 2.047369528877735, 'conservative_loss': 10.65852591123581, 'time_step': 0.05476628270149231, 'valid': 163130.96, 'test': 356927.1305}\u001b[0m \u001b[36mstep\u001b[0m=\u001b[35m40000\u001b[0m\n",
      "\u001b[2m2024-01-18 13:45.14\u001b[0m [\u001b[32m\u001b[1minfo     \u001b[0m] \u001b[1mModel parameters are saved to d3rlpy_logs/DiscreteCQL_20240118130625/model_40000.d3\u001b[0m\n"
     ]
    },
    {
     "data": {
      "application/vnd.jupyter.widget-view+json": {
       "model_id": "9eafe52a81cc4010aaf22670846b8146",
       "version_major": 2,
       "version_minor": 0
      },
      "text/plain": [
       "Epoch 5/10:   0%|          | 0/10000 [00:00<?, ?it/s]"
      ]
     },
     "metadata": {},
     "output_type": "display_data"
    },
    {
     "name": "stdout",
     "output_type": "stream",
     "text": [
      "\u001b[2m2024-01-18 13:54.51\u001b[0m [\u001b[32m\u001b[1minfo     \u001b[0m] \u001b[1mDiscreteCQL_20240118130625: epoch=5 step=50000\u001b[0m \u001b[36mepoch\u001b[0m=\u001b[35m5\u001b[0m \u001b[36mmetrics\u001b[0m=\u001b[35m{'time_sample_batch': 0.006127124381065369, 'time_algorithm_update': 0.04819856798648834, 'loss': 12.649122900772095, 'td_loss': 2.052738415932655, 'conservative_loss': 10.596384487628937, 'time_step': 0.05450001776218414, 'valid': 164454.843, 'test': 359542.66849999997}\u001b[0m \u001b[36mstep\u001b[0m=\u001b[35m50000\u001b[0m\n",
      "\u001b[2m2024-01-18 13:54.52\u001b[0m [\u001b[32m\u001b[1minfo     \u001b[0m] \u001b[1mModel parameters are saved to d3rlpy_logs/DiscreteCQL_20240118130625/model_50000.d3\u001b[0m\n"
     ]
    },
    {
     "data": {
      "application/vnd.jupyter.widget-view+json": {
       "model_id": "23f6c9b6f87743b6a1dc3e541b7f98dc",
       "version_major": 2,
       "version_minor": 0
      },
      "text/plain": [
       "Epoch 6/10:   0%|          | 0/10000 [00:00<?, ?it/s]"
      ]
     },
     "metadata": {},
     "output_type": "display_data"
    },
    {
     "name": "stdout",
     "output_type": "stream",
     "text": [
      "\u001b[2m2024-01-18 14:04.29\u001b[0m [\u001b[32m\u001b[1minfo     \u001b[0m] \u001b[1mDiscreteCQL_20240118130625: epoch=6 step=60000\u001b[0m \u001b[36mepoch\u001b[0m=\u001b[35m6\u001b[0m \u001b[36mmetrics\u001b[0m=\u001b[35m{'time_sample_batch': 0.006192172169685364, 'time_algorithm_update': 0.048232929372787475, 'loss': 12.619387722873688, 'td_loss': 2.0630815118074417, 'conservative_loss': 10.556306205940247, 'time_step': 0.05460746669769287, 'valid': 166077.312, 'test': 360545.2675000001}\u001b[0m \u001b[36mstep\u001b[0m=\u001b[35m60000\u001b[0m\n",
      "\u001b[2m2024-01-18 14:04.31\u001b[0m [\u001b[32m\u001b[1minfo     \u001b[0m] \u001b[1mModel parameters are saved to d3rlpy_logs/DiscreteCQL_20240118130625/model_60000.d3\u001b[0m\n"
     ]
    },
    {
     "data": {
      "application/vnd.jupyter.widget-view+json": {
       "model_id": "bc335a316c47402ba40274ad0e8037b4",
       "version_major": 2,
       "version_minor": 0
      },
      "text/plain": [
       "Epoch 7/10:   0%|          | 0/10000 [00:00<?, ?it/s]"
      ]
     },
     "metadata": {},
     "output_type": "display_data"
    },
    {
     "name": "stdout",
     "output_type": "stream",
     "text": [
      "\u001b[2m2024-01-18 14:14.09\u001b[0m [\u001b[32m\u001b[1minfo     \u001b[0m] \u001b[1mDiscreteCQL_20240118130625: epoch=7 step=70000\u001b[0m \u001b[36mepoch\u001b[0m=\u001b[35m7\u001b[0m \u001b[36mmetrics\u001b[0m=\u001b[35m{'time_sample_batch': 0.006259354400634766, 'time_algorithm_update': 0.04822811813354492, 'loss': 12.58885377597809, 'td_loss': 2.0590730179429055, 'conservative_loss': 10.529780757045746, 'time_step': 0.05466944184303284, 'valid': 167434.288, 'test': 362450.13249999995}\u001b[0m \u001b[36mstep\u001b[0m=\u001b[35m70000\u001b[0m\n",
      "\u001b[2m2024-01-18 14:14.10\u001b[0m [\u001b[32m\u001b[1minfo     \u001b[0m] \u001b[1mModel parameters are saved to d3rlpy_logs/DiscreteCQL_20240118130625/model_70000.d3\u001b[0m\n"
     ]
    },
    {
     "data": {
      "application/vnd.jupyter.widget-view+json": {
       "model_id": "e52e9e1b5c8a47389e54e2f3bff154ec",
       "version_major": 2,
       "version_minor": 0
      },
      "text/plain": [
       "Epoch 8/10:   0%|          | 0/10000 [00:00<?, ?it/s]"
      ]
     },
     "metadata": {},
     "output_type": "display_data"
    },
    {
     "name": "stdout",
     "output_type": "stream",
     "text": [
      "\u001b[2m2024-01-18 14:23.49\u001b[0m [\u001b[32m\u001b[1minfo     \u001b[0m] \u001b[1mDiscreteCQL_20240118130625: epoch=8 step=80000\u001b[0m \u001b[36mepoch\u001b[0m=\u001b[35m8\u001b[0m \u001b[36mmetrics\u001b[0m=\u001b[35m{'time_sample_batch': 0.006326390790939331, 'time_algorithm_update': 0.04826687684059143, 'loss': 12.59466617898941, 'td_loss': 2.0821375605225563, 'conservative_loss': 10.512528623390198, 'time_step': 0.05478055653572082, 'valid': 169270.027, 'test': 363998.1755}\u001b[0m \u001b[36mstep\u001b[0m=\u001b[35m80000\u001b[0m\n",
      "\u001b[2m2024-01-18 14:23.50\u001b[0m [\u001b[32m\u001b[1minfo     \u001b[0m] \u001b[1mModel parameters are saved to d3rlpy_logs/DiscreteCQL_20240118130625/model_80000.d3\u001b[0m\n"
     ]
    },
    {
     "data": {
      "application/vnd.jupyter.widget-view+json": {
       "model_id": "6835cd73eef54d389be16758b7242d14",
       "version_major": 2,
       "version_minor": 0
      },
      "text/plain": [
       "Epoch 9/10:   0%|          | 0/10000 [00:00<?, ?it/s]"
      ]
     },
     "metadata": {},
     "output_type": "display_data"
    },
    {
     "name": "stdout",
     "output_type": "stream",
     "text": [
      "\u001b[2m2024-01-18 14:33.28\u001b[0m [\u001b[32m\u001b[1minfo     \u001b[0m] \u001b[1mDiscreteCQL_20240118130625: epoch=9 step=90000\u001b[0m \u001b[36mepoch\u001b[0m=\u001b[35m9\u001b[0m \u001b[36mmetrics\u001b[0m=\u001b[35m{'time_sample_batch': 0.0062477138996124264, 'time_algorithm_update': 0.04823018491268158, 'loss': 12.584909728622437, 'td_loss': 2.083630687242746, 'conservative_loss': 10.501279044437409, 'time_step': 0.05466206026077271, 'valid': 169820.65399999998, 'test': 367017.2225000001}\u001b[0m \u001b[36mstep\u001b[0m=\u001b[35m90000\u001b[0m\n",
      "\u001b[2m2024-01-18 14:33.30\u001b[0m [\u001b[32m\u001b[1minfo     \u001b[0m] \u001b[1mModel parameters are saved to d3rlpy_logs/DiscreteCQL_20240118130625/model_90000.d3\u001b[0m\n"
     ]
    },
    {
     "data": {
      "application/vnd.jupyter.widget-view+json": {
       "model_id": "372ac8559d6e44d3a3539e7af953d7a4",
       "version_major": 2,
       "version_minor": 0
      },
      "text/plain": [
       "Epoch 10/10:   0%|          | 0/10000 [00:00<?, ?it/s]"
      ]
     },
     "metadata": {},
     "output_type": "display_data"
    },
    {
     "name": "stdout",
     "output_type": "stream",
     "text": [
      "\u001b[2m2024-01-18 14:43.07\u001b[0m [\u001b[32m\u001b[1minfo     \u001b[0m] \u001b[1mDiscreteCQL_20240118130625: epoch=10 step=100000\u001b[0m \u001b[36mepoch\u001b[0m=\u001b[35m10\u001b[0m \u001b[36mmetrics\u001b[0m=\u001b[35m{'time_sample_batch': 0.006192622065544128, 'time_algorithm_update': 0.04820101864337921, 'loss': 12.58577006816864, 'td_loss': 2.09108464987278, 'conservative_loss': 10.494685424423217, 'time_step': 0.05457674689292908, 'valid': 171119.87900000002, 'test': 369410.23850000004}\u001b[0m \u001b[36mstep\u001b[0m=\u001b[35m100000\u001b[0m\n",
      "\u001b[2m2024-01-18 14:43.08\u001b[0m [\u001b[32m\u001b[1minfo     \u001b[0m] \u001b[1mModel parameters are saved to d3rlpy_logs/DiscreteCQL_20240118130625/model_100000.d3\u001b[0m\n"
     ]
    },
    {
     "data": {
      "text/plain": [
       "[(1,\n",
       "  {'time_sample_batch': 0.006409164595603943,\n",
       "   'time_algorithm_update': 0.048495398688316343,\n",
       "   'loss': 13.165841132354736,\n",
       "   'td_loss': 2.00659384329319,\n",
       "   'conservative_loss': 11.159247290420533,\n",
       "   'time_step': 0.055090593957901,\n",
       "   'valid': 161712.08800000002,\n",
       "   'test': 352847.8805}),\n",
       " (2,\n",
       "  {'time_sample_batch': 0.006378501033782959,\n",
       "   'time_algorithm_update': 0.048288755631446835,\n",
       "   'loss': 12.911194874191285,\n",
       "   'td_loss': 2.032807874971628,\n",
       "   'conservative_loss': 10.878386997699737,\n",
       "   'time_step': 0.05485282573699951,\n",
       "   'valid': 163289.915,\n",
       "   'test': 356791.68399999995}),\n",
       " (3,\n",
       "  {'time_sample_batch': 0.006408561205863953,\n",
       "   'time_algorithm_update': 0.04831157054901123,\n",
       "   'loss': 12.784132319164277,\n",
       "   'td_loss': 2.035749557322264,\n",
       "   'conservative_loss': 10.748382761192321,\n",
       "   'time_step': 0.05490975980758667,\n",
       "   'valid': 163866.585,\n",
       "   'test': 357164.657}),\n",
       " (4,\n",
       "  {'time_sample_batch': 0.0063162554740905765,\n",
       "   'time_algorithm_update': 0.0482660311460495,\n",
       "   'loss': 12.705895440387726,\n",
       "   'td_loss': 2.047369528877735,\n",
       "   'conservative_loss': 10.65852591123581,\n",
       "   'time_step': 0.05476628270149231,\n",
       "   'valid': 163130.96,\n",
       "   'test': 356927.1305}),\n",
       " (5,\n",
       "  {'time_sample_batch': 0.006127124381065369,\n",
       "   'time_algorithm_update': 0.04819856798648834,\n",
       "   'loss': 12.649122900772095,\n",
       "   'td_loss': 2.052738415932655,\n",
       "   'conservative_loss': 10.596384487628937,\n",
       "   'time_step': 0.05450001776218414,\n",
       "   'valid': 164454.843,\n",
       "   'test': 359542.66849999997}),\n",
       " (6,\n",
       "  {'time_sample_batch': 0.006192172169685364,\n",
       "   'time_algorithm_update': 0.048232929372787475,\n",
       "   'loss': 12.619387722873688,\n",
       "   'td_loss': 2.0630815118074417,\n",
       "   'conservative_loss': 10.556306205940247,\n",
       "   'time_step': 0.05460746669769287,\n",
       "   'valid': 166077.312,\n",
       "   'test': 360545.2675000001}),\n",
       " (7,\n",
       "  {'time_sample_batch': 0.006259354400634766,\n",
       "   'time_algorithm_update': 0.04822811813354492,\n",
       "   'loss': 12.58885377597809,\n",
       "   'td_loss': 2.0590730179429055,\n",
       "   'conservative_loss': 10.529780757045746,\n",
       "   'time_step': 0.05466944184303284,\n",
       "   'valid': 167434.288,\n",
       "   'test': 362450.13249999995}),\n",
       " (8,\n",
       "  {'time_sample_batch': 0.006326390790939331,\n",
       "   'time_algorithm_update': 0.04826687684059143,\n",
       "   'loss': 12.59466617898941,\n",
       "   'td_loss': 2.0821375605225563,\n",
       "   'conservative_loss': 10.512528623390198,\n",
       "   'time_step': 0.05478055653572082,\n",
       "   'valid': 169270.027,\n",
       "   'test': 363998.1755}),\n",
       " (9,\n",
       "  {'time_sample_batch': 0.0062477138996124264,\n",
       "   'time_algorithm_update': 0.04823018491268158,\n",
       "   'loss': 12.584909728622437,\n",
       "   'td_loss': 2.083630687242746,\n",
       "   'conservative_loss': 10.501279044437409,\n",
       "   'time_step': 0.05466206026077271,\n",
       "   'valid': 169820.65399999998,\n",
       "   'test': 367017.2225000001}),\n",
       " (10,\n",
       "  {'time_sample_batch': 0.006192622065544128,\n",
       "   'time_algorithm_update': 0.04820101864337921,\n",
       "   'loss': 12.58577006816864,\n",
       "   'td_loss': 2.09108464987278,\n",
       "   'conservative_loss': 10.494685424423217,\n",
       "   'time_step': 0.05457674689292908,\n",
       "   'valid': 171119.87900000002,\n",
       "   'test': 369410.23850000004})]"
      ]
     },
     "execution_count": 7,
     "metadata": {},
     "output_type": "execute_result"
    }
   ],
   "source": [
    "cql.fit(\n",
    "    dataset = dataset, \n",
    "    n_steps = int(1e+5),\n",
    "    n_steps_per_epoch = int(1e+4),\n",
    "    evaluators = {\n",
    "        \"valid\": valid_eval,\n",
    "        \"test\": test_eval,\n",
    "})"
   ]
  },
  {
   "cell_type": "code",
   "execution_count": null,
   "id": "4ec04a6a-fd17-4ec5-a0bc-a97c09f8612a",
   "metadata": {},
   "outputs": [],
   "source": []
  }
 ],
 "metadata": {
  "environment": {
   "kernel": "conda-root-py",
   "name": "workbench-notebooks.m113",
   "type": "gcloud",
   "uri": "gcr.io/deeplearning-platform-release/workbench-notebooks:m113"
  },
  "kernelspec": {
   "display_name": "Python 3 (ipykernel) (Local)",
   "language": "python",
   "name": "conda-root-py"
  },
  "language_info": {
   "codemirror_mode": {
    "name": "ipython",
    "version": 3
   },
   "file_extension": ".py",
   "mimetype": "text/x-python",
   "name": "python",
   "nbconvert_exporter": "python",
   "pygments_lexer": "ipython3",
   "version": "3.10.13"
  }
 },
 "nbformat": 4,
 "nbformat_minor": 5
}
