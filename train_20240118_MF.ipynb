{
 "cells": [
  {
   "cell_type": "code",
   "execution_count": 1,
   "id": "b5cac33e-4ece-475b-8e0a-d067b10ba321",
   "metadata": {
    "tags": []
   },
   "outputs": [],
   "source": [
    "import pickle\n",
    "import d3rlpy\n",
    "import pandas as pd\n",
    "import numpy as np\n",
    "# from sklearn.metric import mean_absolute_error"
   ]
  },
  {
   "cell_type": "code",
   "execution_count": 2,
   "id": "ff2ef748-d670-44dd-8c0a-7d8603145879",
   "metadata": {
    "tags": []
   },
   "outputs": [],
   "source": [
    "df = pd.read_parquet('gs://leo_tapas/primary/full_20240115.parquet')"
   ]
  },
  {
   "cell_type": "markdown",
   "id": "950f637c-76a8-4e1e-ad52-9064158c4aae",
   "metadata": {
    "tags": []
   },
   "source": [
    "## Metric 1: 이벤트를 주면 읽고, 아니면 안 읽는다 (Hard Condition)\n",
    "## Metric 2: 이벤트를 안 줘도 읽고, 안 주면 이벤트 캐쉬만 아낀다 (Naive Condition)"
   ]
  },
  {
   "cell_type": "code",
   "execution_count": 3,
   "id": "aae41022-3930-46b3-bc20-6aa1ba6566ba",
   "metadata": {
    "tags": []
   },
   "outputs": [],
   "source": [
    "unique_series = np.unique(df.series_id)"
   ]
  },
  {
   "cell_type": "code",
   "execution_count": 6,
   "id": "66e048df-6b12-4842-9bcc-720f525fd2eb",
   "metadata": {
    "tags": []
   },
   "outputs": [],
   "source": [
    "train_series = unique_series[:200]\n",
    "valid_series = unique_series[200:250]\n",
    "test_series = unique_series[250:300]"
   ]
  },
  {
   "cell_type": "code",
   "execution_count": 7,
   "id": "0ed1e645-e6a9-4a12-8e94-d87cc9743b09",
   "metadata": {
    "tags": []
   },
   "outputs": [],
   "source": [
    "sorted_df = df.sort_values(\"series_id\")"
   ]
  },
  {
   "cell_type": "code",
   "execution_count": 10,
   "id": "b866f34d-1086-457d-88de-3049916b2e52",
   "metadata": {
    "tags": []
   },
   "outputs": [],
   "source": [
    "train_df = df.loc[(df.series_id >= np.min(train_series)) & (df.series_id <= np.max(train_series))]\n",
    "valid_df = df.loc[(df.series_id >= np.min(valid_series)) & (df.series_id <= np.max(valid_series))]\n",
    "test_df = df.loc[(df.series_id >= np.min(test_series)) & (df.series_id <= np.max(test_series))]"
   ]
  },
  {
   "cell_type": "markdown",
   "id": "7256f626-24fe-4da7-a2c0-40d2d18037f6",
   "metadata": {},
   "source": [
    "## User Embedding MF"
   ]
  },
  {
   "cell_type": "code",
   "execution_count": 11,
   "id": "31086f78-5db8-467c-9baa-a0f99e802556",
   "metadata": {
    "tags": []
   },
   "outputs": [],
   "source": [
    "import torch\n",
    "import torch.nn as nn\n",
    "import torch.nn.functional as F\n",
    "from torch.utils.data import Dataset, DataLoader\n",
    "\n",
    "\n",
    "class MF(nn.Module):\n",
    "    def __init__(self, num_users, emb_size=16):\n",
    "        super().__init__()\n",
    "        self.user_emb = nn.Embedding(num_users, emb_size)\n",
    "\n",
    "    def forward(self, user, item_emb):\n",
    "        u = self.user_emb(user)\n",
    "        return (u * item_emb).sum(1)"
   ]
  },
  {
   "cell_type": "code",
   "execution_count": 12,
   "id": "327e0512-fc49-4581-8bbd-abe92323a257",
   "metadata": {
    "tags": []
   },
   "outputs": [
    {
     "data": {
      "text/html": [
       "<div>\n",
       "<style scoped>\n",
       "    .dataframe tbody tr th:only-of-type {\n",
       "        vertical-align: middle;\n",
       "    }\n",
       "\n",
       "    .dataframe tbody tr th {\n",
       "        vertical-align: top;\n",
       "    }\n",
       "\n",
       "    .dataframe thead th {\n",
       "        text-align: right;\n",
       "    }\n",
       "</style>\n",
       "<table border=\"1\" class=\"dataframe\">\n",
       "  <thead>\n",
       "    <tr style=\"text-align: right;\">\n",
       "      <th></th>\n",
       "      <th>user_id</th>\n",
       "      <th>series_id</th>\n",
       "      <th>main_genre</th>\n",
       "      <th>meta_tag</th>\n",
       "      <th>sales</th>\n",
       "      <th>cost</th>\n",
       "      <th>profit</th>\n",
       "      <th>onehot</th>\n",
       "      <th>pca</th>\n",
       "    </tr>\n",
       "  </thead>\n",
       "  <tbody>\n",
       "    <tr>\n",
       "      <th>0</th>\n",
       "      <td>6059</td>\n",
       "      <td>260434</td>\n",
       "      <td>29</td>\n",
       "      <td>Romance,Fantasy,Romance Fantasy,Romance Comedy...</td>\n",
       "      <td>0.0</td>\n",
       "      <td>300</td>\n",
       "      <td>-300.0</td>\n",
       "      <td>[0.0, 0.0, 0.0, 0.0, 0.0, 0.0, 0.0, 0.0, 0.0, ...</td>\n",
       "      <td>[1.7331182860243817, -0.8613053367988697, -0.1...</td>\n",
       "    </tr>\n",
       "    <tr>\n",
       "      <th>1</th>\n",
       "      <td>6059</td>\n",
       "      <td>260455</td>\n",
       "      <td>29</td>\n",
       "      <td>Romance,Drama,Historical Fantasy,Romance Comed...</td>\n",
       "      <td>0.0</td>\n",
       "      <td>300</td>\n",
       "      <td>-300.0</td>\n",
       "      <td>[0.0, 0.0, 0.0, 0.0, 0.0, 0.0, 0.0, 0.0, 0.0, ...</td>\n",
       "      <td>[0.3151955733899762, -0.7281312396229039, 0.16...</td>\n",
       "    </tr>\n",
       "    <tr>\n",
       "      <th>2</th>\n",
       "      <td>6442</td>\n",
       "      <td>234811</td>\n",
       "      <td>3</td>\n",
       "      <td></td>\n",
       "      <td>0.0</td>\n",
       "      <td>300</td>\n",
       "      <td>-300.0</td>\n",
       "      <td>[1.0, 0.0, 0.0, 0.0, 0.0, 0.0, 0.0, 0.0, 0.0, ...</td>\n",
       "      <td>[-1.4194401856699383, -0.6399378741580425, -0....</td>\n",
       "    </tr>\n",
       "    <tr>\n",
       "      <th>3</th>\n",
       "      <td>6646</td>\n",
       "      <td>262666</td>\n",
       "      <td>29</td>\n",
       "      <td>Romance,Fantasy,Romance Fantasy,Fantasy,Romanc...</td>\n",
       "      <td>15120.0</td>\n",
       "      <td>300</td>\n",
       "      <td>14820.0</td>\n",
       "      <td>[0.0, 0.0, 0.0, 0.0, 0.0, 0.0, 0.0, 0.0, 0.0, ...</td>\n",
       "      <td>[1.1174302162223018, -0.7307430254823483, 0.10...</td>\n",
       "    </tr>\n",
       "    <tr>\n",
       "      <th>4</th>\n",
       "      <td>10489</td>\n",
       "      <td>234933</td>\n",
       "      <td>25</td>\n",
       "      <td></td>\n",
       "      <td>5040.0</td>\n",
       "      <td>200</td>\n",
       "      <td>4840.0</td>\n",
       "      <td>[0.0, 0.0, 0.0, 0.0, 0.0, 0.0, 0.0, 0.0, 0.0, ...</td>\n",
       "      <td>[-1.4240087662669842, -0.6428052730862609, -0....</td>\n",
       "    </tr>\n",
       "    <tr>\n",
       "      <th>...</th>\n",
       "      <td>...</td>\n",
       "      <td>...</td>\n",
       "      <td>...</td>\n",
       "      <td>...</td>\n",
       "      <td>...</td>\n",
       "      <td>...</td>\n",
       "      <td>...</td>\n",
       "      <td>...</td>\n",
       "      <td>...</td>\n",
       "    </tr>\n",
       "    <tr>\n",
       "      <th>3850737</th>\n",
       "      <td>14654537</td>\n",
       "      <td>237382</td>\n",
       "      <td>29</td>\n",
       "      <td>Romance,Fantasy,High Fantasy,Sword and Sorcery...</td>\n",
       "      <td>0.0</td>\n",
       "      <td>500</td>\n",
       "      <td>-500.0</td>\n",
       "      <td>[0.0, 0.0, 0.0, 0.0, 0.0, 0.0, 0.0, 0.0, 0.0, ...</td>\n",
       "      <td>[1.4954338757972274, 0.3361357444477873, -0.94...</td>\n",
       "    </tr>\n",
       "    <tr>\n",
       "      <th>3850750</th>\n",
       "      <td>14683069</td>\n",
       "      <td>237382</td>\n",
       "      <td>29</td>\n",
       "      <td>Romance,Fantasy,High Fantasy,Sword and Sorcery...</td>\n",
       "      <td>0.0</td>\n",
       "      <td>500</td>\n",
       "      <td>-500.0</td>\n",
       "      <td>[0.0, 0.0, 0.0, 0.0, 0.0, 0.0, 0.0, 0.0, 0.0, ...</td>\n",
       "      <td>[1.4954338757972274, 0.3361357444477873, -0.94...</td>\n",
       "    </tr>\n",
       "    <tr>\n",
       "      <th>3850792</th>\n",
       "      <td>14756878</td>\n",
       "      <td>237382</td>\n",
       "      <td>29</td>\n",
       "      <td>Romance,Fantasy,High Fantasy,Sword and Sorcery...</td>\n",
       "      <td>0.0</td>\n",
       "      <td>500</td>\n",
       "      <td>-500.0</td>\n",
       "      <td>[0.0, 0.0, 0.0, 0.0, 0.0, 0.0, 0.0, 0.0, 0.0, ...</td>\n",
       "      <td>[1.4954338757972274, 0.3361357444477873, -0.94...</td>\n",
       "    </tr>\n",
       "    <tr>\n",
       "      <th>3850816</th>\n",
       "      <td>14792332</td>\n",
       "      <td>237382</td>\n",
       "      <td>29</td>\n",
       "      <td>Romance,Fantasy,High Fantasy,Sword and Sorcery...</td>\n",
       "      <td>4875.0</td>\n",
       "      <td>500</td>\n",
       "      <td>4375.0</td>\n",
       "      <td>[0.0, 0.0, 0.0, 0.0, 0.0, 0.0, 0.0, 0.0, 0.0, ...</td>\n",
       "      <td>[1.4954338757972274, 0.3361357444477873, -0.94...</td>\n",
       "    </tr>\n",
       "    <tr>\n",
       "      <th>3850838</th>\n",
       "      <td>14843438</td>\n",
       "      <td>237382</td>\n",
       "      <td>29</td>\n",
       "      <td>Romance,Fantasy,High Fantasy,Sword and Sorcery...</td>\n",
       "      <td>0.0</td>\n",
       "      <td>500</td>\n",
       "      <td>-500.0</td>\n",
       "      <td>[0.0, 0.0, 0.0, 0.0, 0.0, 0.0, 0.0, 0.0, 0.0, ...</td>\n",
       "      <td>[1.4954338757972274, 0.3361357444477873, -0.94...</td>\n",
       "    </tr>\n",
       "  </tbody>\n",
       "</table>\n",
       "<p>2556772 rows × 9 columns</p>\n",
       "</div>"
      ],
      "text/plain": [
       "          user_id  series_id  main_genre  \\\n",
       "0            6059     260434          29   \n",
       "1            6059     260455          29   \n",
       "2            6442     234811           3   \n",
       "3            6646     262666          29   \n",
       "4           10489     234933          25   \n",
       "...           ...        ...         ...   \n",
       "3850737  14654537     237382          29   \n",
       "3850750  14683069     237382          29   \n",
       "3850792  14756878     237382          29   \n",
       "3850816  14792332     237382          29   \n",
       "3850838  14843438     237382          29   \n",
       "\n",
       "                                                  meta_tag    sales  cost  \\\n",
       "0        Romance,Fantasy,Romance Fantasy,Romance Comedy...      0.0   300   \n",
       "1        Romance,Drama,Historical Fantasy,Romance Comed...      0.0   300   \n",
       "2                                                               0.0   300   \n",
       "3        Romance,Fantasy,Romance Fantasy,Fantasy,Romanc...  15120.0   300   \n",
       "4                                                            5040.0   200   \n",
       "...                                                    ...      ...   ...   \n",
       "3850737  Romance,Fantasy,High Fantasy,Sword and Sorcery...      0.0   500   \n",
       "3850750  Romance,Fantasy,High Fantasy,Sword and Sorcery...      0.0   500   \n",
       "3850792  Romance,Fantasy,High Fantasy,Sword and Sorcery...      0.0   500   \n",
       "3850816  Romance,Fantasy,High Fantasy,Sword and Sorcery...   4875.0   500   \n",
       "3850838  Romance,Fantasy,High Fantasy,Sword and Sorcery...      0.0   500   \n",
       "\n",
       "          profit                                             onehot  \\\n",
       "0         -300.0  [0.0, 0.0, 0.0, 0.0, 0.0, 0.0, 0.0, 0.0, 0.0, ...   \n",
       "1         -300.0  [0.0, 0.0, 0.0, 0.0, 0.0, 0.0, 0.0, 0.0, 0.0, ...   \n",
       "2         -300.0  [1.0, 0.0, 0.0, 0.0, 0.0, 0.0, 0.0, 0.0, 0.0, ...   \n",
       "3        14820.0  [0.0, 0.0, 0.0, 0.0, 0.0, 0.0, 0.0, 0.0, 0.0, ...   \n",
       "4         4840.0  [0.0, 0.0, 0.0, 0.0, 0.0, 0.0, 0.0, 0.0, 0.0, ...   \n",
       "...          ...                                                ...   \n",
       "3850737   -500.0  [0.0, 0.0, 0.0, 0.0, 0.0, 0.0, 0.0, 0.0, 0.0, ...   \n",
       "3850750   -500.0  [0.0, 0.0, 0.0, 0.0, 0.0, 0.0, 0.0, 0.0, 0.0, ...   \n",
       "3850792   -500.0  [0.0, 0.0, 0.0, 0.0, 0.0, 0.0, 0.0, 0.0, 0.0, ...   \n",
       "3850816   4375.0  [0.0, 0.0, 0.0, 0.0, 0.0, 0.0, 0.0, 0.0, 0.0, ...   \n",
       "3850838   -500.0  [0.0, 0.0, 0.0, 0.0, 0.0, 0.0, 0.0, 0.0, 0.0, ...   \n",
       "\n",
       "                                                       pca  \n",
       "0        [1.7331182860243817, -0.8613053367988697, -0.1...  \n",
       "1        [0.3151955733899762, -0.7281312396229039, 0.16...  \n",
       "2        [-1.4194401856699383, -0.6399378741580425, -0....  \n",
       "3        [1.1174302162223018, -0.7307430254823483, 0.10...  \n",
       "4        [-1.4240087662669842, -0.6428052730862609, -0....  \n",
       "...                                                    ...  \n",
       "3850737  [1.4954338757972274, 0.3361357444477873, -0.94...  \n",
       "3850750  [1.4954338757972274, 0.3361357444477873, -0.94...  \n",
       "3850792  [1.4954338757972274, 0.3361357444477873, -0.94...  \n",
       "3850816  [1.4954338757972274, 0.3361357444477873, -0.94...  \n",
       "3850838  [1.4954338757972274, 0.3361357444477873, -0.94...  \n",
       "\n",
       "[2556772 rows x 9 columns]"
      ]
     },
     "execution_count": 12,
     "metadata": {},
     "output_type": "execute_result"
    }
   ],
   "source": [
    "train_df"
   ]
  },
  {
   "cell_type": "code",
   "execution_count": 13,
   "id": "a26a288f-20b8-4035-ac06-2450cefb447c",
   "metadata": {
    "tags": []
   },
   "outputs": [],
   "source": [
    "unique_user_id = np.unique(train_df.user_id.values)"
   ]
  },
  {
   "cell_type": "code",
   "execution_count": 24,
   "id": "baf5e2d3-582f-461d-9005-f4bd40a314d5",
   "metadata": {
    "tags": []
   },
   "outputs": [],
   "source": [
    "mapper = {u:i for i, u in enumerate(unique_user_id)}"
   ]
  },
  {
   "cell_type": "code",
   "execution_count": 26,
   "id": "324c4352-78e9-4bbd-9797-bfdccef4bf24",
   "metadata": {
    "tags": []
   },
   "outputs": [],
   "source": [
    "def mapping(x):\n",
    "    try:\n",
    "        return mapper[x]\n",
    "    except KeyError:\n",
    "        return np.nan"
   ]
  },
  {
   "cell_type": "code",
   "execution_count": 28,
   "id": "b65158b0-3c16-4e17-afa8-75e8bed12cf6",
   "metadata": {
    "tags": []
   },
   "outputs": [
    {
     "name": "stderr",
     "output_type": "stream",
     "text": [
      "/var/tmp/ipykernel_3065/134874570.py:1: SettingWithCopyWarning: \n",
      "A value is trying to be set on a copy of a slice from a DataFrame.\n",
      "Try using .loc[row_indexer,col_indexer] = value instead\n",
      "\n",
      "See the caveats in the documentation: https://pandas.pydata.org/pandas-docs/stable/user_guide/indexing.html#returning-a-view-versus-a-copy\n",
      "  train_df['user_id_index'] = train_df['user_id'].apply(lambda x: mapping(x)).values\n"
     ]
    }
   ],
   "source": [
    "train_df['user_id_index'] = train_df['user_id'].apply(lambda x: mapping(x))"
   ]
  },
  {
   "cell_type": "code",
   "execution_count": 34,
   "id": "f1fa32f9-fc29-4ee7-a08a-66b2407ad2f8",
   "metadata": {
    "tags": []
   },
   "outputs": [
    {
     "name": "stderr",
     "output_type": "stream",
     "text": [
      "/var/tmp/ipykernel_3065/979529531.py:1: SettingWithCopyWarning: \n",
      "A value is trying to be set on a copy of a slice from a DataFrame.\n",
      "Try using .loc[row_indexer,col_indexer] = value instead\n",
      "\n",
      "See the caveats in the documentation: https://pandas.pydata.org/pandas-docs/stable/user_guide/indexing.html#returning-a-view-versus-a-copy\n",
      "  valid_df['user_id_index'] = valid_df['user_id'].apply(lambda x: mapping(x))\n"
     ]
    }
   ],
   "source": [
    "valid_df['user_id_index'] = valid_df['user_id'].apply(lambda x: mapping(x))\n",
    "valid_df = valid_df.dropna()"
   ]
  },
  {
   "cell_type": "code",
   "execution_count": 35,
   "id": "df456c56-22f4-421d-9827-92b6f7f0dc4a",
   "metadata": {
    "tags": []
   },
   "outputs": [
    {
     "name": "stderr",
     "output_type": "stream",
     "text": [
      "/var/tmp/ipykernel_3065/657340895.py:1: SettingWithCopyWarning: \n",
      "A value is trying to be set on a copy of a slice from a DataFrame.\n",
      "Try using .loc[row_indexer,col_indexer] = value instead\n",
      "\n",
      "See the caveats in the documentation: https://pandas.pydata.org/pandas-docs/stable/user_guide/indexing.html#returning-a-view-versus-a-copy\n",
      "  test_df['user_id_index'] = test_df['user_id'].apply(lambda x: mapping(x))\n"
     ]
    }
   ],
   "source": [
    "test_df['user_id_index'] = test_df['user_id'].apply(lambda x: mapping(x))\n",
    "test_df = test_df.dropna()"
   ]
  },
  {
   "cell_type": "code",
   "execution_count": 37,
   "id": "ef12a8bf-6137-4c07-b65a-b1c02bc80623",
   "metadata": {
    "tags": []
   },
   "outputs": [
    {
     "data": {
      "text/plain": [
       "MF(\n",
       "  (user_emb): Embedding(144881, 256)\n",
       ")"
      ]
     },
     "execution_count": 37,
     "metadata": {},
     "output_type": "execute_result"
    }
   ],
   "source": [
    "model = MF(len(unique_user_id), emb_size=256)\n",
    "model = model.cuda()\n",
    "optimizer = torch.optim.Adam(model.parameters())\n",
    "model.train()"
   ]
  },
  {
   "cell_type": "code",
   "execution_count": 38,
   "id": "96f23233-2ffd-4b11-a4be-7de0c798e20e",
   "metadata": {
    "tags": []
   },
   "outputs": [],
   "source": [
    "class SimpleDataset(Dataset):\n",
    "    def __init__(self, df):\n",
    "        self.item_embeddings = np.stack(df.pca.values)\n",
    "        self.user_indices = df.user_id_index.values\n",
    "        self.profit = df.profit.values/1000\n",
    "        \n",
    "    def __len__(self):\n",
    "        return len(self.profit)\n",
    "    \n",
    "    def __getitem__(self, idx):\n",
    "        ie = torch.tensor(self.item_embeddings[idx])\n",
    "        ui = torch.tensor(self.user_indices[idx])\n",
    "        pf = torch.tensor(self.profit[idx])\n",
    "        return ie, ui, pf"
   ]
  },
  {
   "cell_type": "code",
   "execution_count": 39,
   "id": "9762de00-c134-42f0-aa7a-d211c93c2537",
   "metadata": {
    "tags": []
   },
   "outputs": [],
   "source": [
    "trainds = SimpleDataset(train_df)\n",
    "validds = SimpleDataset(valid_df)\n",
    "testds = SimpleDataset(test_df)"
   ]
  },
  {
   "cell_type": "code",
   "execution_count": 44,
   "id": "81709429-0af2-4e0a-9410-206c337f7812",
   "metadata": {
    "tags": []
   },
   "outputs": [],
   "source": [
    "traindl = DataLoader(trainds, batch_size=50000, shuffle=True)\n",
    "validdl = DataLoader(validds, batch_size=10000, shuffle=False)\n",
    "testdl = DataLoader(testds, batch_size=10000, shuffle=False)"
   ]
  },
  {
   "cell_type": "code",
   "execution_count": 45,
   "id": "d69db641-459f-404c-a878-29e21a523a15",
   "metadata": {
    "tags": []
   },
   "outputs": [],
   "source": [
    "epoch = 100"
   ]
  },
  {
   "cell_type": "code",
   "execution_count": 46,
   "id": "a5f12551-5ebf-4c56-a112-ba0c06649661",
   "metadata": {
    "tags": []
   },
   "outputs": [],
   "source": [
    "from tqdm import tqdm"
   ]
  },
  {
   "cell_type": "code",
   "execution_count": null,
   "id": "cbd0190d-0445-498e-8f14-691f543291b9",
   "metadata": {
    "tags": []
   },
   "outputs": [
    {
     "name": "stderr",
     "output_type": "stream",
     "text": [
      "100%|██████████| 100/100 [3:12:56<00:00, 115.76s/it, avg=481366, hard=332626, naive=630107] \n"
     ]
    }
   ],
   "source": [
    "pbar = tqdm(range(epoch))\n",
    "\n",
    "for _ in pbar:\n",
    "\n",
    "    for ie, ui, pf in traindl:\n",
    "        optimizer.zero_grad()\n",
    "        y_hat = model(ui.cuda(), ie.cuda())\n",
    "        loss = F.mse_loss(y_hat,pf.cuda())\n",
    "        loss.backward()\n",
    "        optimizer.step()\n",
    "    \n",
    "    valid_hard = 0\n",
    "    valid_naive = 0\n",
    "    for ie, ui, pf in validdl:\n",
    "        y_hat = model(ui.cuda().long(), ie.cuda())\n",
    "        np_y_hat = y_hat.cpu().detach().numpy()\n",
    "        np_pf = pf.detach().numpy()\n",
    "        valid_hard += np.sum(np_pf[np.where(np_y_hat>0)])\n",
    "        valid_naive += np.sum(np_pf[np.where((np_y_hat>0)|(np_pf>0))])\n",
    "        \n",
    "    test_hard = 0\n",
    "    test_naive = 0\n",
    "    for ie, ui, pf in testdl:\n",
    "        y_hat = model(ui.cuda().long(), ie.cuda())\n",
    "        np_y_hat = y_hat.cpu().detach().numpy()\n",
    "        np_pf = pf.detach().numpy()\n",
    "        test_hard += np.sum(np_pf[np.where(np_y_hat>0)])\n",
    "        test_naive += np.sum(np_pf[np.where((np_y_hat>0)|(np_pf>0))])        \n",
    "\n",
    "    pbar.set_postfix(avg=str(int(np.mean([test_hard,test_naive]))), hard=str(int(test_hard)), naive=str(int(test_naive))) \n",
    "        "
   ]
  },
  {
   "cell_type": "code",
   "execution_count": 48,
   "id": "435349b5-a638-4793-b3dd-dc07035103bd",
   "metadata": {
    "tags": []
   },
   "outputs": [],
   "source": [
    "torch.save(model.state_dict(), \"MF20240118.pth\")"
   ]
  },
  {
   "cell_type": "code",
   "execution_count": 49,
   "id": "ae50531b-1330-420c-99b1-24067125fcde",
   "metadata": {},
   "outputs": [],
   "source": [
    "uri = 'gs://leo_tapas/primary/train_20240118.parquet'\n",
    "train_df.to_parquet(uri)\n",
    "uri = 'gs://leo_tapas/primary/valid_20240118.parquet'\n",
    "valid_df.to_parquet(uri)\n",
    "uri = 'gs://leo_tapas/primary/test_20240118.parquet'\n",
    "test_df.to_parquet(uri)\n"
   ]
  },
  {
   "cell_type": "code",
   "execution_count": null,
   "id": "6c700647-fc00-44d9-b23d-fe6097675e14",
   "metadata": {},
   "outputs": [],
   "source": []
  }
 ],
 "metadata": {
  "environment": {
   "kernel": "conda-env-pytorch-pytorch",
   "name": "workbench-notebooks.m113",
   "type": "gcloud",
   "uri": "gcr.io/deeplearning-platform-release/workbench-notebooks:m113"
  },
  "kernelspec": {
   "display_name": "PyTorch 1-13 (Local)",
   "language": "python",
   "name": "conda-env-pytorch-pytorch"
  },
  "language_info": {
   "codemirror_mode": {
    "name": "ipython",
    "version": 3
   },
   "file_extension": ".py",
   "mimetype": "text/x-python",
   "name": "python",
   "nbconvert_exporter": "python",
   "pygments_lexer": "ipython3",
   "version": "3.10.13"
  }
 },
 "nbformat": 4,
 "nbformat_minor": 5
}
