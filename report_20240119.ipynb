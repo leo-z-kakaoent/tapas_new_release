{
 "cells": [
  {
   "cell_type": "code",
   "execution_count": null,
   "id": "95718199-c25e-4043-81e0-6b8f8fb58cce",
   "metadata": {},
   "outputs": [],
   "source": [
    "import pickle\n",
    "import d3rlpy\n",
    "import pandas as pd\n",
    "import numpy as np\n",
    "import torch\n",
    "import torch.nn as nn\n",
    "import torch.nn.functional as F\n",
    "from tqdm import tqdm\n",
    "from sklearn.metrics import accuracy_score, ndcg_score\n",
    "from torch.utils.data import Dataset, DataLoader\n",
    "from scipy.sparse import coo_matrix, csr_matrix\n",
    "pd.options.mode.chained_assignment = None"
   ]
  },
  {
   "cell_type": "code",
   "execution_count": null,
   "id": "ece0a992-9c5d-43cb-900a-0923415d126b",
   "metadata": {},
   "outputs": [],
   "source": [
    "uri = \"gs://leo_tapas/report/results_20240119.parquet\"\n",
    "resultdf = pd.read_parquet(uri)"
   ]
  }
 ],
 "metadata": {
  "environment": {
   "kernel": "conda-root-py",
   "name": "workbench-notebooks.m113",
   "type": "gcloud",
   "uri": "gcr.io/deeplearning-platform-release/workbench-notebooks:m113"
  },
  "kernelspec": {
   "display_name": "Python 3 (ipykernel) (Local)",
   "language": "python",
   "name": "conda-root-py"
  },
  "language_info": {
   "codemirror_mode": {
    "name": "ipython",
    "version": 3
   },
   "file_extension": ".py",
   "mimetype": "text/x-python",
   "name": "python",
   "nbconvert_exporter": "python",
   "pygments_lexer": "ipython3",
   "version": "3.10.13"
  }
 },
 "nbformat": 4,
 "nbformat_minor": 5
}
