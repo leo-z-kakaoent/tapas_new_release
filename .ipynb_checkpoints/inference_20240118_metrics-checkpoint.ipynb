{
 "cells": [
  {
   "cell_type": "code",
   "execution_count": 2,
   "id": "5859a0d5-cc2e-4b13-b994-760c1b9e0f9a",
   "metadata": {
    "tags": []
   },
   "outputs": [],
   "source": [
    "import pickle\n",
    "import d3rlpy\n",
    "import pandas as pd\n",
    "import numpy as np\n",
    "import torch\n",
    "import torch.nn as nn\n",
    "import torch.nn.functional as F\n",
    "from sklearn.metrics import accuracy_score, ndcg_score\n",
    "from torch.utils.data import Dataset, DataLoader\n",
    "\n",
    "\n",
    "class MF(nn.Module):\n",
    "    def __init__(self, num_users, emb_size=16):\n",
    "        super().__init__()\n",
    "        self.user_emb = nn.Embedding(num_users, emb_size)\n",
    "\n",
    "    def forward(self, user, item_emb):\n",
    "        u = self.user_emb(user)\n",
    "        return (u * item_emb).sum(1)"
   ]
  },
  {
   "cell_type": "code",
   "execution_count": 3,
   "id": "206d0833-1ad4-4082-9dfd-d7bfa4bef381",
   "metadata": {
    "tags": []
   },
   "outputs": [],
   "source": [
    "def hard_profit(y_score, y_true):\n",
    "    return np.sum(y_true[np.where(y_score>0)])\n",
    "    \n",
    "def naive_profit(y_score, y_true):\n",
    "    return np.sum(y_true[np.where((y_score>0)|(y_true>0))])\n",
    "\n",
    "def mean_profit(y_score, y_true):\n",
    "    hard = hard_profit(y_score, y_true)\n",
    "    naive = naive_profit(y_score, y_true)\n",
    "    return np.mean([hard, naive])"
   ]
  },
  {
   "cell_type": "code",
   "execution_count": null,
   "id": "06d3c621-a903-42e5-9283-1a2916ea8b96",
   "metadata": {},
   "outputs": [],
   "source": []
  }
 ],
 "metadata": {
  "environment": {
   "kernel": "conda-root-py",
   "name": "workbench-notebooks.m113",
   "type": "gcloud",
   "uri": "gcr.io/deeplearning-platform-release/workbench-notebooks:m113"
  },
  "kernelspec": {
   "display_name": "Python 3 (ipykernel) (Local)",
   "language": "python",
   "name": "conda-root-py"
  },
  "language_info": {
   "codemirror_mode": {
    "name": "ipython",
    "version": 3
   },
   "file_extension": ".py",
   "mimetype": "text/x-python",
   "name": "python",
   "nbconvert_exporter": "python",
   "pygments_lexer": "ipython3",
   "version": "3.10.13"
  }
 },
 "nbformat": 4,
 "nbformat_minor": 5
}
