{
 "cells": [
  {
   "cell_type": "code",
   "execution_count": 2,
   "id": "b5cac33e-4ece-475b-8e0a-d067b10ba321",
   "metadata": {
    "tags": []
   },
   "outputs": [],
   "source": [
    "import pickle\n",
    "import d3rlpy\n",
    "import pandas as pd\n",
    "import numpy as np\n",
    "import json"
   ]
  },
  {
   "cell_type": "code",
   "execution_count": 3,
   "id": "ff2ef748-d670-44dd-8c0a-7d8603145879",
   "metadata": {
    "tags": []
   },
   "outputs": [],
   "source": [
    "traindf = pd.read_parquet('gs://leo_tapas/primary/train_20240118.parquet')\n",
    "validdf = pd.read_parquet('gs://leo_tapas/primary/valid_20240118.parquet')\n",
    "testdf = pd.read_parquet('gs://leo_tapas/primary/test_20240118.parquet')"
   ]
  },
  {
   "cell_type": "code",
   "execution_count": 4,
   "id": "25e05a2c-adc5-4183-9d1c-900c47ded64c",
   "metadata": {
    "tags": []
   },
   "outputs": [],
   "source": [
    "class Evaluator(d3rlpy.metrics.EvaluatorProtocol):\n",
    "    def __init__(self, observations, actions, rewards, batch_size=10000):\n",
    "        self.observations = observations\n",
    "        self.actions = actions\n",
    "        self.rewards = rewards\n",
    "        self.batch_size = batch_size\n",
    "    \n",
    "    def _hard_metric(self, qv, r):\n",
    "        return np.sum(r[np.where(qv>0)])\n",
    "\n",
    "    def _naive_metric(self, qv, r):\n",
    "        return np.sum(r[np.where((qv>0)|(r>0))])\n",
    "    \n",
    "    def __call__(self, algo, dataset):\n",
    "        qvlist = []\n",
    "        rlist = []\n",
    "        for i in range(0,len(self.rewards),self.batch_size):\n",
    "            qvlist.append(algo.predict_value(self.observations[i:(i+self.batch_size),:], self.actions[i:(i+self.batch_size)]))\n",
    "            rlist.append(self.rewards[i:(i+self.batch_size)])\n",
    "        h = self._hard_metric(qv=np.concatenate(qvlist), r=np.concatenate(rlist))\n",
    "        n = self._naive_metric(qv=np.concatenate(qvlist), r=np.concatenate(rlist))\n",
    "        return np.mean([h,n])"
   ]
  },
  {
   "cell_type": "code",
   "execution_count": 5,
   "id": "f7cebc3a-c337-418d-9e6a-be01d12347c0",
   "metadata": {
    "tags": []
   },
   "outputs": [
    {
     "name": "stdout",
     "output_type": "stream",
     "text": [
      "\u001b[2m2024-01-18 11:06.45\u001b[0m [\u001b[32m\u001b[1minfo     \u001b[0m] \u001b[1mSignatures have been automatically determined.\u001b[0m \u001b[36maction_signature\u001b[0m=\u001b[35mSignature(dtype=[dtype('int64')], shape=[(1,)])\u001b[0m \u001b[36mobservation_signature\u001b[0m=\u001b[35mSignature(dtype=[dtype('float64')], shape=[(256,)])\u001b[0m \u001b[36mreward_signature\u001b[0m=\u001b[35mSignature(dtype=[dtype('float64')], shape=[(1,)])\u001b[0m\n",
      "\u001b[2m2024-01-18 11:06.45\u001b[0m [\u001b[32m\u001b[1minfo     \u001b[0m] \u001b[1mAction-space has been automatically determined.\u001b[0m \u001b[36maction_space\u001b[0m=\u001b[35m<ActionSpace.DISCRETE: 2>\u001b[0m\n",
      "\u001b[2m2024-01-18 11:06.54\u001b[0m [\u001b[32m\u001b[1minfo     \u001b[0m] \u001b[1mAction size has been automatically determined.\u001b[0m \u001b[36maction_size\u001b[0m=\u001b[35m144881\u001b[0m\n"
     ]
    }
   ],
   "source": [
    "dataset = d3rlpy.dataset.MDPDataset(\n",
    "    observations = np.stack(traindf.pca.values),\n",
    "    actions = traindf.user_id_index.values,\n",
    "    rewards = traindf.profit.values/1000,\n",
    "    terminals = np.ones(len(traindf)))"
   ]
  },
  {
   "cell_type": "code",
   "execution_count": 6,
   "id": "0493d679-54ee-4174-8ee7-365c107e23ba",
   "metadata": {
    "tags": []
   },
   "outputs": [],
   "source": [
    "valid_eval = Evaluator(\n",
    "    observations = np.stack(validdf.pca.values),\n",
    "    actions = validdf.user_id_index.values,\n",
    "    rewards = validdf.profit.values/1000)\n",
    "test_eval = Evaluator(\n",
    "    observations = np.stack(testdf.pca.values),\n",
    "    actions = testdf.user_id_index.values,\n",
    "    rewards = testdf.profit.values/1000)"
   ]
  },
  {
   "cell_type": "code",
   "execution_count": 9,
   "id": "e7f96ac7-92cf-45e4-88d9-252abb08a234",
   "metadata": {
    "tags": []
   },
   "outputs": [],
   "source": [
    "batch_size = 128\n",
    "valid_eval = Evaluator(\n",
    "    observations = np.stack(validdf.pca.values),\n",
    "    actions = validdf.user_id_index.values,\n",
    "    rewards = validdf.profit.values/1000,\n",
    "    batch_size = batch_size)\n",
    "test_eval = Evaluator(\n",
    "    observations = np.stack(testdf.pca.values),\n",
    "    actions = testdf.user_id_index.values,\n",
    "    rewards = testdf.profit.values/1000,\n",
    "    batch_size = batch_size)\n",
    "bcq = d3rlpy.algos.DiscreteBCQConfig(batch_size=batch_size).create(device='cuda:0')"
   ]
  },
  {
   "cell_type": "code",
   "execution_count": null,
   "id": "b722528c-fc79-43f9-96ce-d869d377266e",
   "metadata": {
    "tags": []
   },
   "outputs": [
    {
     "name": "stdout",
     "output_type": "stream",
     "text": [
      "\u001b[2m2024-01-18 11:11.38\u001b[0m [\u001b[32m\u001b[1minfo     \u001b[0m] \u001b[1mdataset info                  \u001b[0m \u001b[36mdataset_info\u001b[0m=\u001b[35mDatasetInfo(observation_signature=Signature(dtype=[dtype('float64')], shape=[(256,)]), action_signature=Signature(dtype=[dtype('int64')], shape=[(1,)]), reward_signature=Signature(dtype=[dtype('float64')], shape=[(1,)]), action_space=<ActionSpace.DISCRETE: 2>, action_size=144881)\u001b[0m\n",
      "\u001b[2m2024-01-18 11:11.38\u001b[0m [\u001b[32m\u001b[1minfo     \u001b[0m] \u001b[1mDirectory is created at d3rlpy_logs/DiscreteBCQ_20240118111138\u001b[0m\n",
      "\u001b[2m2024-01-18 11:11.38\u001b[0m [\u001b[33m\u001b[1mwarning  \u001b[0m] \u001b[1mSkip building models since they're already built.\u001b[0m\n",
      "\u001b[2m2024-01-18 11:11.38\u001b[0m [\u001b[32m\u001b[1minfo     \u001b[0m] \u001b[1mParameters                    \u001b[0m \u001b[36mparams\u001b[0m=\u001b[35m{'observation_shape': [256], 'action_size': 144881, 'config': {'type': 'discrete_bcq', 'params': {'batch_size': 128, 'gamma': 0.99, 'observation_scaler': {'type': 'none', 'params': {}}, 'action_scaler': {'type': 'none', 'params': {}}, 'reward_scaler': {'type': 'none', 'params': {}}, 'learning_rate': 6.25e-05, 'optim_factory': {'type': 'adam', 'params': {'betas': [0.9, 0.999], 'eps': 1e-08, 'weight_decay': 0, 'amsgrad': False}}, 'encoder_factory': {'type': 'default', 'params': {'activation': 'relu', 'use_batch_norm': False, 'dropout_rate': None}}, 'q_func_factory': {'type': 'mean', 'params': {'share_encoder': False}}, 'n_critics': 1, 'action_flexibility': 0.3, 'beta': 0.5, 'target_update_interval': 8000, 'share_encoder': True}}}\u001b[0m\n"
     ]
    },
    {
     "data": {
      "application/vnd.jupyter.widget-view+json": {
       "model_id": "2f8ccc4f3d174e618431ab25c4f6102c",
       "version_major": 2,
       "version_minor": 0
      },
      "text/plain": [
       "Epoch 1/100:   0%|          | 0/10000 [00:00<?, ?it/s]"
      ]
     },
     "metadata": {},
     "output_type": "display_data"
    },
    {
     "name": "stdout",
     "output_type": "stream",
     "text": [
      "\u001b[2m2024-01-18 11:25.16\u001b[0m [\u001b[32m\u001b[1minfo     \u001b[0m] \u001b[1mDiscreteBCQ_20240118111138: epoch=1 step=10000\u001b[0m \u001b[36mepoch\u001b[0m=\u001b[35m1\u001b[0m \u001b[36mmetrics\u001b[0m=\u001b[35m{'time_sample_batch': 0.006270531511306763, 'time_algorithm_update': 0.07212477955818176, 'loss': 84.16519418487549, 'td_loss': 1.7857928950250148, 'imitator_loss': 82.37940128326416, 'time_step': 0.07859050452709199, 'valid': 268167.484, 'test': 617365.8485}\u001b[0m \u001b[36mstep\u001b[0m=\u001b[35m10000\u001b[0m\n",
      "\u001b[2m2024-01-18 11:25.18\u001b[0m [\u001b[32m\u001b[1minfo     \u001b[0m] \u001b[1mModel parameters are saved to d3rlpy_logs/DiscreteBCQ_20240118111138/model_10000.d3\u001b[0m\n"
     ]
    },
    {
     "data": {
      "application/vnd.jupyter.widget-view+json": {
       "model_id": "1411d80366db4eeb98550537a588ce6c",
       "version_major": 2,
       "version_minor": 0
      },
      "text/plain": [
       "Epoch 2/100:   0%|          | 0/10000 [00:00<?, ?it/s]"
      ]
     },
     "metadata": {},
     "output_type": "display_data"
    },
    {
     "name": "stdout",
     "output_type": "stream",
     "text": [
      "\u001b[2m2024-01-18 11:38.54\u001b[0m [\u001b[32m\u001b[1minfo     \u001b[0m] \u001b[1mDiscreteBCQ_20240118111138: epoch=2 step=20000\u001b[0m \u001b[36mepoch\u001b[0m=\u001b[35m2\u001b[0m \u001b[36mmetrics\u001b[0m=\u001b[35m{'time_sample_batch': 0.00616870391368866, 'time_algorithm_update': 0.07206472671031952, 'loss': 84.1022769241333, 'td_loss': 1.7441233915567398, 'imitator_loss': 82.3581535697937, 'time_step': 0.07842977931499481, 'valid': 277684.899, 'test': 639744.925}\u001b[0m \u001b[36mstep\u001b[0m=\u001b[35m20000\u001b[0m\n",
      "\u001b[2m2024-01-18 11:38.56\u001b[0m [\u001b[32m\u001b[1minfo     \u001b[0m] \u001b[1mModel parameters are saved to d3rlpy_logs/DiscreteBCQ_20240118111138/model_20000.d3\u001b[0m\n"
     ]
    },
    {
     "data": {
      "application/vnd.jupyter.widget-view+json": {
       "model_id": "87b94cd03bdc41249e98882a37bb3a6e",
       "version_major": 2,
       "version_minor": 0
      },
      "text/plain": [
       "Epoch 3/100:   0%|          | 0/10000 [00:00<?, ?it/s]"
      ]
     },
     "metadata": {},
     "output_type": "display_data"
    },
    {
     "name": "stdout",
     "output_type": "stream",
     "text": [
      "\u001b[2m2024-01-18 11:52.30\u001b[0m [\u001b[32m\u001b[1minfo     \u001b[0m] \u001b[1mDiscreteBCQ_20240118111138: epoch=3 step=30000\u001b[0m \u001b[36mepoch\u001b[0m=\u001b[35m3\u001b[0m \u001b[36mmetrics\u001b[0m=\u001b[35m{'time_sample_batch': 0.006097878527641296, 'time_algorithm_update': 0.07200965085029602, 'loss': 84.05196563720703, 'td_loss': 1.7032973624289036, 'imitator_loss': 82.3486682937622, 'time_step': 0.07829817299842834, 'valid': 281264.23000000004, 'test': 648885.2775000001}\u001b[0m \u001b[36mstep\u001b[0m=\u001b[35m30000\u001b[0m\n",
      "\u001b[2m2024-01-18 11:52.33\u001b[0m [\u001b[32m\u001b[1minfo     \u001b[0m] \u001b[1mModel parameters are saved to d3rlpy_logs/DiscreteBCQ_20240118111138/model_30000.d3\u001b[0m\n"
     ]
    },
    {
     "data": {
      "application/vnd.jupyter.widget-view+json": {
       "model_id": "103a9756dafd47789e846a8867aa3733",
       "version_major": 2,
       "version_minor": 0
      },
      "text/plain": [
       "Epoch 4/100:   0%|          | 0/10000 [00:00<?, ?it/s]"
      ]
     },
     "metadata": {},
     "output_type": "display_data"
    },
    {
     "name": "stdout",
     "output_type": "stream",
     "text": [
      "\u001b[2m2024-01-18 12:06.10\u001b[0m [\u001b[32m\u001b[1minfo     \u001b[0m] \u001b[1mDiscreteBCQ_20240118111138: epoch=4 step=40000\u001b[0m \u001b[36mepoch\u001b[0m=\u001b[35m4\u001b[0m \u001b[36mmetrics\u001b[0m=\u001b[35m{'time_sample_batch': 0.006301498222351074, 'time_algorithm_update': 0.07211461164951324, 'loss': 83.91015121383667, 'td_loss': 1.5654552607774734, 'imitator_loss': 82.34469593811035, 'time_step': 0.07861574051380157, 'valid': 283342.559, 'test': 654702.112}\u001b[0m \u001b[36mstep\u001b[0m=\u001b[35m40000\u001b[0m\n",
      "\u001b[2m2024-01-18 12:06.13\u001b[0m [\u001b[32m\u001b[1minfo     \u001b[0m] \u001b[1mModel parameters are saved to d3rlpy_logs/DiscreteBCQ_20240118111138/model_40000.d3\u001b[0m\n"
     ]
    },
    {
     "data": {
      "application/vnd.jupyter.widget-view+json": {
       "model_id": "d9af07aa9ce44104a8a7939d11b8c433",
       "version_major": 2,
       "version_minor": 0
      },
      "text/plain": [
       "Epoch 5/100:   0%|          | 0/10000 [00:00<?, ?it/s]"
      ]
     },
     "metadata": {},
     "output_type": "display_data"
    }
   ],
   "source": [
    "bcq.fit(\n",
    "    dataset = dataset, \n",
    "    n_steps = int(1e+6),\n",
    "    n_steps_per_epoch = int(1e+4),\n",
    "    evaluators = {\n",
    "        \"valid\": valid_eval,\n",
    "        \"test\": test_eval,\n",
    "})"
   ]
  },
  {
   "cell_type": "code",
   "execution_count": null,
   "id": "4ec04a6a-fd17-4ec5-a0bc-a97c09f8612a",
   "metadata": {},
   "outputs": [],
   "source": []
  }
 ],
 "metadata": {
  "environment": {
   "kernel": "conda-root-py",
   "name": "workbench-notebooks.m113",
   "type": "gcloud",
   "uri": "gcr.io/deeplearning-platform-release/workbench-notebooks:m113"
  },
  "kernelspec": {
   "display_name": "Python 3 (ipykernel) (Local)",
   "language": "python",
   "name": "conda-root-py"
  },
  "language_info": {
   "codemirror_mode": {
    "name": "ipython",
    "version": 3
   },
   "file_extension": ".py",
   "mimetype": "text/x-python",
   "name": "python",
   "nbconvert_exporter": "python",
   "pygments_lexer": "ipython3",
   "version": "3.10.13"
  }
 },
 "nbformat": 4,
 "nbformat_minor": 5
}
