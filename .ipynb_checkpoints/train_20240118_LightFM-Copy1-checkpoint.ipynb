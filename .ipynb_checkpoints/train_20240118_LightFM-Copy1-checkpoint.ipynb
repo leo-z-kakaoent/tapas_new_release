{
 "cells": [
  {
   "cell_type": "code",
   "execution_count": 100,
   "id": "b5cac33e-4ece-475b-8e0a-d067b10ba321",
   "metadata": {
    "tags": []
   },
   "outputs": [],
   "source": [
    "import pickle\n",
    "import pandas as pd\n",
    "import numpy as np\n",
    "from lightfm import LightFM\n",
    "from scipy.sparse import coo_matrix, csr_matrix"
   ]
  },
  {
   "cell_type": "code",
   "execution_count": 2,
   "id": "ff2ef748-d670-44dd-8c0a-7d8603145879",
   "metadata": {
    "tags": []
   },
   "outputs": [],
   "source": [
    "traindf = pd.read_parquet('gs://leo_tapas/primary/train_20240118.parquet')\n",
    "validdf = pd.read_parquet('gs://leo_tapas/primary/valid_20240118.parquet')\n",
    "testdf = pd.read_parquet('gs://leo_tapas/primary/test_20240118.parquet')"
   ]
  },
  {
   "cell_type": "code",
   "execution_count": 55,
   "id": "f32f9eaf-d966-4cf1-8b4f-eb979fa36b54",
   "metadata": {
    "tags": []
   },
   "outputs": [],
   "source": [
    "item_embeddings = pd.concat([\n",
    "    traindf.drop_duplicates('series_id')[['series_id','onehot']],\n",
    "    validdf.drop_duplicates('series_id')[['series_id','onehot']],\n",
    "    testdf.drop_duplicates('series_id')[['series_id','onehot']],\n",
    "]).sort_values(\"series_id\")"
   ]
  },
  {
   "cell_type": "code",
   "execution_count": 56,
   "id": "b44b3c00-20ce-48e6-880e-8bf4f399e46f",
   "metadata": {
    "tags": []
   },
   "outputs": [],
   "source": [
    "item_mapper = pd.Series(np.arange(len(item_embeddings)), index=item_embeddings.series_id)"
   ]
  },
  {
   "cell_type": "code",
   "execution_count": 57,
   "id": "b806ac41-e52e-48e4-a1a1-6c4f97d2bdf6",
   "metadata": {
    "tags": []
   },
   "outputs": [],
   "source": [
    "item_embeddings = np.stack(item_embeddings.onehot.values)"
   ]
  },
  {
   "cell_type": "code",
   "execution_count": 58,
   "id": "4d08b134-8eae-48ae-991e-103f8c12c882",
   "metadata": {
    "tags": []
   },
   "outputs": [],
   "source": [
    "traindf['series_id_index'] = item_mapper[traindf.series_id.values].values"
   ]
  },
  {
   "cell_type": "code",
   "execution_count": 89,
   "id": "1bbcdfa9-bead-4d1d-a4a3-ec5f902f8e65",
   "metadata": {
    "tags": []
   },
   "outputs": [],
   "source": [
    "row = traindf.user_id_index.values\n",
    "col = traindf.series_id_index.values\n",
    "data = np.sign(traindf.profit.values)"
   ]
  },
  {
   "cell_type": "code",
   "execution_count": 90,
   "id": "6f0e0499-44ee-4019-8d49-1b771bf16dac",
   "metadata": {
    "tags": []
   },
   "outputs": [
    {
     "data": {
      "text/plain": [
       "array([-1., -1., -1., ..., -1.,  1., -1.])"
      ]
     },
     "execution_count": 90,
     "metadata": {},
     "output_type": "execute_result"
    }
   ],
   "source": [
    "data"
   ]
  },
  {
   "cell_type": "code",
   "execution_count": 109,
   "id": "86d26eef-b610-42cb-a8fb-ecaa851e2358",
   "metadata": {
    "tags": []
   },
   "outputs": [],
   "source": [
    "interactions = coo_matrix((data, (row,col)), dtype='int')\n",
    "item_features = csr_matrix(item_embeddings)"
   ]
  },
  {
   "cell_type": "code",
   "execution_count": 110,
   "id": "dc6f0c43-e68c-4c5c-9795-2ca57a6a8265",
   "metadata": {
    "tags": []
   },
   "outputs": [],
   "source": [
    "model = LightFM()"
   ]
  },
  {
   "cell_type": "code",
   "execution_count": null,
   "id": "5662d4ca-c517-41e9-ba5b-6584ec83e01e",
   "metadata": {
    "tags": []
   },
   "outputs": [
    {
     "name": "stderr",
     "output_type": "stream",
     "text": [
      "Epoch: 100%|██████████| 1000/1000 [2:22:27<00:00,  8.55s/it] \n"
     ]
    },
    {
     "data": {
      "text/plain": [
       "<lightfm.lightfm.LightFM at 0x7fdb28f197b0>"
      ]
     },
     "execution_count": 111,
     "metadata": {},
     "output_type": "execute_result"
    }
   ],
   "source": [
    "model.fit(interactions=interactions, item_features=item_features, epochs=1000, num_threads=8, verbose=True)"
   ]
  },
  {
   "cell_type": "code",
   "execution_count": 112,
   "id": "8f8023a9-1d73-4a4e-8705-416077dc2427",
   "metadata": {
    "tags": []
   },
   "outputs": [],
   "source": [
    "with open('lightfm_onehot_20240118.pickle', 'wb') as fle:\n",
    "    pickle.dump(model, fle, protocol=pickle.HIGHEST_PROTOCOL)"
   ]
  },
  {
   "cell_type": "code",
   "execution_count": 107,
   "id": "9b20f1b1-46b1-4779-92ed-9380ea7d8725",
   "metadata": {
    "tags": []
   },
   "outputs": [
    {
     "ename": "AttributeError",
     "evalue": "'DataFrame' object has no attribute 'series_id_index'",
     "output_type": "error",
     "traceback": [
      "\u001b[0;31m---------------------------------------------------------------------------\u001b[0m",
      "\u001b[0;31mAttributeError\u001b[0m                            Traceback (most recent call last)",
      "\u001b[0;32m/var/tmp/ipykernel_169798/1608962587.py\u001b[0m in \u001b[0;36m?\u001b[0;34m()\u001b[0m\n\u001b[0;32m----> 1\u001b[0;31m \u001b[0mmodel\u001b[0m\u001b[0;34m.\u001b[0m\u001b[0mpredict\u001b[0m\u001b[0;34m(\u001b[0m\u001b[0muser_ids\u001b[0m\u001b[0;34m=\u001b[0m\u001b[0mvaliddf\u001b[0m\u001b[0;34m.\u001b[0m\u001b[0muser_id_index\u001b[0m\u001b[0;34m.\u001b[0m\u001b[0mvalues\u001b[0m\u001b[0;34m,\u001b[0m \u001b[0mitem_ids\u001b[0m\u001b[0;34m=\u001b[0m\u001b[0mvaliddf\u001b[0m\u001b[0;34m.\u001b[0m\u001b[0mseries_id_index\u001b[0m\u001b[0;34m.\u001b[0m\u001b[0mvalues\u001b[0m\u001b[0;34m)\u001b[0m\u001b[0;34m\u001b[0m\u001b[0;34m\u001b[0m\u001b[0m\n\u001b[0m",
      "\u001b[0;32m/opt/conda/lib/python3.10/site-packages/pandas/core/generic.py\u001b[0m in \u001b[0;36m?\u001b[0;34m(self, name)\u001b[0m\n\u001b[1;32m   5985\u001b[0m             \u001b[0;32mand\u001b[0m \u001b[0mname\u001b[0m \u001b[0;32mnot\u001b[0m \u001b[0;32min\u001b[0m \u001b[0mself\u001b[0m\u001b[0;34m.\u001b[0m\u001b[0m_accessors\u001b[0m\u001b[0;34m\u001b[0m\u001b[0;34m\u001b[0m\u001b[0m\n\u001b[1;32m   5986\u001b[0m             \u001b[0;32mand\u001b[0m \u001b[0mself\u001b[0m\u001b[0;34m.\u001b[0m\u001b[0m_info_axis\u001b[0m\u001b[0;34m.\u001b[0m\u001b[0m_can_hold_identifiers_and_holds_name\u001b[0m\u001b[0;34m(\u001b[0m\u001b[0mname\u001b[0m\u001b[0;34m)\u001b[0m\u001b[0;34m\u001b[0m\u001b[0;34m\u001b[0m\u001b[0m\n\u001b[1;32m   5987\u001b[0m         ):\n\u001b[1;32m   5988\u001b[0m             \u001b[0;32mreturn\u001b[0m \u001b[0mself\u001b[0m\u001b[0;34m[\u001b[0m\u001b[0mname\u001b[0m\u001b[0;34m]\u001b[0m\u001b[0;34m\u001b[0m\u001b[0;34m\u001b[0m\u001b[0m\n\u001b[0;32m-> 5989\u001b[0;31m         \u001b[0;32mreturn\u001b[0m \u001b[0mobject\u001b[0m\u001b[0;34m.\u001b[0m\u001b[0m__getattribute__\u001b[0m\u001b[0;34m(\u001b[0m\u001b[0mself\u001b[0m\u001b[0;34m,\u001b[0m \u001b[0mname\u001b[0m\u001b[0;34m)\u001b[0m\u001b[0;34m\u001b[0m\u001b[0;34m\u001b[0m\u001b[0m\n\u001b[0m",
      "\u001b[0;31mAttributeError\u001b[0m: 'DataFrame' object has no attribute 'series_id_index'"
     ]
    }
   ],
   "source": [
    "model.predict(user_ids=validdf.user_id_index.values, item_ids=validdf.series_id_index.values)"
   ]
  },
  {
   "cell_type": "code",
   "execution_count": 38,
   "id": "96f23233-2ffd-4b11-a4be-7de0c798e20e",
   "metadata": {
    "tags": []
   },
   "outputs": [],
   "source": [
    "class SimpleDataset(Dataset):\n",
    "    def __init__(self, df):\n",
    "        self.item_embeddings = np.stack(df.pca.values)\n",
    "        self.user_indices = df.user_id_index.values\n",
    "        self.profit = df.profit.values/1000\n",
    "        \n",
    "    def __len__(self):\n",
    "        return len(self.profit)\n",
    "    \n",
    "    def __getitem__(self, idx):\n",
    "        ie = torch.tensor(self.item_embeddings[idx])\n",
    "        ui = torch.tensor(self.user_indices[idx])\n",
    "        pf = torch.tensor(self.profit[idx])\n",
    "        return ie, ui, pf"
   ]
  },
  {
   "cell_type": "code",
   "execution_count": 39,
   "id": "9762de00-c134-42f0-aa7a-d211c93c2537",
   "metadata": {
    "tags": []
   },
   "outputs": [],
   "source": [
    "trainds = SimpleDataset(train_df)\n",
    "validds = SimpleDataset(valid_df)\n",
    "testds = SimpleDataset(test_df)"
   ]
  },
  {
   "cell_type": "code",
   "execution_count": 44,
   "id": "81709429-0af2-4e0a-9410-206c337f7812",
   "metadata": {
    "tags": []
   },
   "outputs": [],
   "source": [
    "traindl = DataLoader(trainds, batch_size=50000, shuffle=True)\n",
    "validdl = DataLoader(validds, batch_size=10000, shuffle=False)\n",
    "testdl = DataLoader(testds, batch_size=10000, shuffle=False)"
   ]
  },
  {
   "cell_type": "code",
   "execution_count": 45,
   "id": "d69db641-459f-404c-a878-29e21a523a15",
   "metadata": {
    "tags": []
   },
   "outputs": [],
   "source": [
    "epoch = 100"
   ]
  },
  {
   "cell_type": "code",
   "execution_count": 46,
   "id": "a5f12551-5ebf-4c56-a112-ba0c06649661",
   "metadata": {
    "tags": []
   },
   "outputs": [],
   "source": [
    "from tqdm import tqdm"
   ]
  },
  {
   "cell_type": "code",
   "execution_count": null,
   "id": "cbd0190d-0445-498e-8f14-691f543291b9",
   "metadata": {
    "tags": []
   },
   "outputs": [
    {
     "name": "stderr",
     "output_type": "stream",
     "text": [
      "100%|██████████| 100/100 [3:12:56<00:00, 115.76s/it, avg=481366, hard=332626, naive=630107] \n"
     ]
    }
   ],
   "source": [
    "pbar = tqdm(range(epoch))\n",
    "\n",
    "for _ in pbar:\n",
    "\n",
    "    for ie, ui, pf in traindl:\n",
    "        optimizer.zero_grad()\n",
    "        y_hat = model(ui.cuda(), ie.cuda())\n",
    "        loss = F.mse_loss(y_hat,pf.cuda())\n",
    "        loss.backward()\n",
    "        optimizer.step()\n",
    "    \n",
    "    valid_hard = 0\n",
    "    valid_naive = 0\n",
    "    for ie, ui, pf in validdl:\n",
    "        y_hat = model(ui.cuda().long(), ie.cuda())\n",
    "        np_y_hat = y_hat.cpu().detach().numpy()\n",
    "        np_pf = pf.detach().numpy()\n",
    "        valid_hard += np.sum(np_pf[np.where(np_y_hat>0)])\n",
    "        valid_naive += np.sum(np_pf[np.where((np_y_hat>0)|(np_pf>0))])\n",
    "        \n",
    "    test_hard = 0\n",
    "    test_naive = 0\n",
    "    for ie, ui, pf in testdl:\n",
    "        y_hat = model(ui.cuda().long(), ie.cuda())\n",
    "        np_y_hat = y_hat.cpu().detach().numpy()\n",
    "        np_pf = pf.detach().numpy()\n",
    "        test_hard += np.sum(np_pf[np.where(np_y_hat>0)])\n",
    "        test_naive += np.sum(np_pf[np.where((np_y_hat>0)|(np_pf>0))])        \n",
    "\n",
    "    pbar.set_postfix(avg=str(int(np.mean([test_hard,test_naive]))), hard=str(int(test_hard)), naive=str(int(test_naive))) \n",
    "        "
   ]
  },
  {
   "cell_type": "code",
   "execution_count": 48,
   "id": "435349b5-a638-4793-b3dd-dc07035103bd",
   "metadata": {
    "tags": []
   },
   "outputs": [],
   "source": [
    "torch.save(model.state_dict(), \"MF20240118.pth\")"
   ]
  },
  {
   "cell_type": "code",
   "execution_count": 49,
   "id": "ae50531b-1330-420c-99b1-24067125fcde",
   "metadata": {},
   "outputs": [],
   "source": [
    "uri = 'gs://leo_tapas/primary/train_20240118.parquet'\n",
    "train_df.to_parquet(uri)\n",
    "uri = 'gs://leo_tapas/primary/valid_20240118.parquet'\n",
    "valid_df.to_parquet(uri)\n",
    "uri = 'gs://leo_tapas/primary/test_20240118.parquet'\n",
    "test_df.to_parquet(uri)\n"
   ]
  },
  {
   "cell_type": "code",
   "execution_count": null,
   "id": "6c700647-fc00-44d9-b23d-fe6097675e14",
   "metadata": {},
   "outputs": [],
   "source": []
  }
 ],
 "metadata": {
  "environment": {
   "kernel": "conda-root-py",
   "name": "workbench-notebooks.m113",
   "type": "gcloud",
   "uri": "gcr.io/deeplearning-platform-release/workbench-notebooks:m113"
  },
  "kernelspec": {
   "display_name": "Python 3 (ipykernel) (Local)",
   "language": "python",
   "name": "conda-root-py"
  },
  "language_info": {
   "codemirror_mode": {
    "name": "ipython",
    "version": 3
   },
   "file_extension": ".py",
   "mimetype": "text/x-python",
   "name": "python",
   "nbconvert_exporter": "python",
   "pygments_lexer": "ipython3",
   "version": "3.10.13"
  }
 },
 "nbformat": 4,
 "nbformat_minor": 5
}
